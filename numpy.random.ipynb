{
 "cells": [
  {
   "cell_type": "markdown",
   "metadata": {},
   "source": [
    "# numpy.random package"
   ]
  },
  {
   "cell_type": "markdown",
   "metadata": {
    "collapsed": true
   },
   "source": [
    "The numpy.random package is a powerful tool in scientific equations in mathematical modelling, in business and many more disciplines use it.  It is robust and fast and will deliver results.\n",
    "\n",
    "Numpy.random will return random values, however many you require in an array.  Or in however many dimensions as you need.\n",
    "\n"
   ]
  },
  {
   "cell_type": "code",
   "execution_count": 1,
   "metadata": {
    "scrolled": true
   },
   "outputs": [],
   "source": [
    "import numpy as np # importing numpy as np\n",
    "import pandas as pd # importing pandas as pd\n",
    "import seaborn as sns # importing seaborn as sns\n",
    "import matplotlib.pyplot as plt # importing matplotlib .pyplot as plt\n",
    "from scipy import stats # importing stats from scipy"
   ]
  },
  {
   "cell_type": "markdown",
   "metadata": {},
   "source": [
    "## Simple Random Sampling"
   ]
  },
  {
   "cell_type": "markdown",
   "metadata": {},
   "source": [
    "### Numpy.random.randn\n",
    "\n",
    "The numpy.random.randn command will return a sample with a mean of 0, and a standard deviation of 1, from a standard normal distribution.  \n"
   ]
  },
  {
   "cell_type": "code",
   "execution_count": 2,
   "metadata": {
    "scrolled": true
   },
   "outputs": [
    {
     "data": {
      "text/plain": [
       "float"
      ]
     },
     "execution_count": 2,
     "metadata": {},
     "output_type": "execute_result"
    }
   ],
   "source": [
    "type(np.random.randn()) # the type of number returned is a float"
   ]
  },
  {
   "cell_type": "code",
   "execution_count": 3,
   "metadata": {
    "scrolled": true
   },
   "outputs": [
    {
     "data": {
      "text/plain": [
       "1.8382466239890944"
      ]
     },
     "execution_count": 3,
     "metadata": {},
     "output_type": "execute_result"
    }
   ],
   "source": [
    "np.random.randn() # if you do not enter a size it will return a single float"
   ]
  },
  {
   "cell_type": "code",
   "execution_count": 4,
   "metadata": {
    "scrolled": true
   },
   "outputs": [
    {
     "data": {
      "text/plain": [
       "array([ 5.80399435e-01, -6.48764812e-01, -2.46334746e-01,  1.49915862e+00,\n",
       "       -1.63559758e+00, -1.08695536e+00, -3.90224362e-01,  6.31704576e-01,\n",
       "       -7.54487687e-01,  1.02098819e+00, -1.85004341e+00,  3.34696598e-01,\n",
       "        1.82358566e+00, -3.74105363e-01, -8.89412341e-02,  6.62733480e-01,\n",
       "       -1.34760472e+00,  2.88671087e-01,  8.19440808e-01,  2.78398426e-01,\n",
       "        5.19230323e-01,  6.77767409e-01,  2.99442349e-02, -8.87726984e-01,\n",
       "        1.57634535e-01,  1.23024842e+00, -6.59894386e-01, -6.83376598e-01,\n",
       "       -3.66994314e-01, -1.24841072e+00,  7.70269398e-01,  7.99456075e-02,\n",
       "       -1.41626981e+00, -1.10038758e+00, -1.13246835e+00,  1.01748571e+00,\n",
       "       -1.19424203e+00,  8.55203932e-01,  5.03735764e-01, -3.15225914e-01,\n",
       "        9.76231718e-01,  1.48141375e+00,  6.13282960e-01, -1.24720925e+00,\n",
       "        1.13421697e+00,  9.47444276e-02, -1.34410580e+00,  5.40195749e-01,\n",
       "       -2.25217226e+00,  1.72660177e+00, -1.80252480e-01, -9.04483082e-01,\n",
       "        4.72868846e-01, -6.31643867e-01,  8.74129973e-01,  1.49881209e+00,\n",
       "        2.75698300e-02,  1.87200545e+00,  7.56897450e-02,  1.23690401e+00,\n",
       "        4.25476518e-01, -2.81455913e-01, -1.81888661e-01, -5.01518236e-01,\n",
       "        7.12544319e-02,  2.45391047e-01, -1.85893938e+00, -5.57124921e-01,\n",
       "        2.84766332e+00, -9.94748847e-01,  1.33796274e+00,  1.71117863e+00,\n",
       "        4.03091088e-01,  3.94184797e-01,  2.36020901e+00, -1.42460221e-01,\n",
       "       -4.09525455e-01, -1.13210360e-01, -4.08361701e-01, -9.09613337e-01,\n",
       "        4.00731004e-01, -2.51666590e-01,  2.39402018e-01,  6.84490691e-01,\n",
       "        2.01963281e-01,  6.15358023e-01,  6.04647639e-01, -1.42607936e+00,\n",
       "        2.15765131e-01,  7.42807037e-01, -5.24801657e-01, -1.00687815e+00,\n",
       "        7.14018102e-01,  3.51037297e-01, -2.95229353e-01,  1.41322663e+00,\n",
       "        8.19983024e-02,  3.08731074e-01,  3.21354716e-01, -2.00432105e-04,\n",
       "       -1.88733826e-01,  7.38221791e-01, -1.16298267e-01,  9.37636980e-01,\n",
       "       -2.93318282e-01,  3.45049803e-01, -4.83717220e-01, -1.49022012e+00,\n",
       "        9.48750711e-01, -8.77056065e-01,  6.23599178e-01,  6.32922160e-01,\n",
       "        5.96920492e-01, -1.09985648e+00, -1.54085247e+00, -8.99992023e-01,\n",
       "        1.40700490e-01, -9.58818470e-01, -1.40414714e+00,  7.58967604e-02,\n",
       "       -5.58219981e-01, -4.84889683e-01,  1.08218250e-01, -1.41920891e+00,\n",
       "       -1.29997956e-01, -9.08318181e-01, -1.59081444e-01, -7.26685221e-01,\n",
       "       -2.29048085e-01, -1.81591667e+00,  4.99870092e-01, -1.27060950e+00,\n",
       "        3.10854116e-01,  1.38578259e+00, -2.19455874e+00, -1.20692906e+00,\n",
       "       -3.80807127e-01, -8.24160861e-01,  1.16740475e+00, -2.49220596e+00,\n",
       "        2.06583318e+00,  1.64482788e+00, -9.85729596e-02, -6.93064293e-01,\n",
       "        7.76341925e-01, -2.44965425e+00, -1.97181757e+00, -2.39165493e-01,\n",
       "        1.29187574e+00, -1.22616997e+00,  5.50769141e-01,  3.58490186e-01,\n",
       "       -3.50057550e-01,  2.33540619e+00,  1.29227311e+00,  1.11519938e+00,\n",
       "       -1.88627011e+00,  1.31241364e+00,  9.41606960e-01, -3.81236567e-01,\n",
       "        2.04123732e-01, -9.28661272e-02, -8.18000567e-01, -4.74717739e-01,\n",
       "       -4.53476742e-01,  1.25213090e-01, -5.75025456e-01, -1.79684458e-01,\n",
       "       -1.61043325e+00,  3.24505007e-02, -5.27836455e-01,  8.13692322e-01,\n",
       "        1.24551628e+00,  2.04488547e+00, -7.55762591e-01,  1.30989361e+00,\n",
       "       -8.82220729e-01,  2.69064426e-01,  3.55619479e-01, -8.69011986e-01,\n",
       "        5.63780572e-01, -2.64529985e-01, -2.24044337e-01, -1.60089600e+00,\n",
       "       -3.40086784e-02,  1.01629262e-01, -1.41217032e+00,  1.41534228e+00,\n",
       "       -4.01935558e-01,  4.97288179e-01, -1.62817381e+00,  1.98579995e-01,\n",
       "       -1.06685093e+00, -6.81388410e-01,  8.35251550e-01, -3.97623652e-01,\n",
       "       -1.62626821e-01, -6.85208179e-02, -2.29130172e-02,  9.49212340e-01,\n",
       "       -2.51639300e+00,  1.26144068e-01,  4.57758062e-01, -9.46266657e-01,\n",
       "        5.75896714e-02,  6.67208289e-02,  1.24720245e+00, -8.71515674e-01,\n",
       "       -7.37269040e-01, -7.49921690e-01, -7.99615419e-01,  6.41605169e-02,\n",
       "        9.46508653e-01, -1.23085379e+00, -1.29602067e+00, -1.58764608e+00,\n",
       "        1.87591917e-01, -6.51033203e-02,  1.83341537e-01,  5.34132326e-01,\n",
       "        2.13239170e+00, -1.08622045e+00,  2.39142515e-01, -5.01463432e-01,\n",
       "       -2.14272576e+00, -1.83592489e+00,  3.46259192e-01,  1.61226258e+00,\n",
       "       -7.08706999e-01, -8.31881614e-01, -3.76643905e-02,  9.83240304e-01,\n",
       "       -8.05728161e-02, -1.40544609e+00, -5.43801238e-01,  2.06868852e+00,\n",
       "        1.14245531e+00, -2.13071184e+00, -1.76008134e+00,  7.69884540e-01,\n",
       "        4.57676949e-01, -4.61995853e-01, -4.57113365e-01,  9.11908954e-01,\n",
       "       -5.38229206e-01, -3.93359002e-01, -1.68995988e+00, -9.16863252e-01,\n",
       "       -3.70524419e-02, -4.81305931e-01,  1.71929083e+00, -9.09617952e-01,\n",
       "       -1.69219622e+00,  2.68889314e-01,  9.22772707e-01, -4.13144369e-01,\n",
       "       -2.73371031e+00, -4.22536950e-01, -8.83456342e-01, -3.31828506e-01,\n",
       "       -1.96485529e+00,  7.73426547e-01,  3.33545315e-02,  4.46075902e-01,\n",
       "       -1.77802479e-01,  8.13557749e-01,  1.56071466e+00,  1.70396100e+00,\n",
       "        1.54319234e+00, -1.39456095e-01, -9.81265237e-01,  3.90981714e-01,\n",
       "        5.00967029e-01, -1.09791323e+00, -1.64724269e+00, -9.06243571e-02,\n",
       "       -2.07724194e-01,  8.15366019e-01,  1.35447533e-01, -1.18703103e+00,\n",
       "        9.23498618e-01, -1.50245193e+00, -9.16406008e-01,  6.46294003e-01,\n",
       "        1.47391334e+00,  6.19358565e-01, -9.38608304e-01,  2.72562537e+00,\n",
       "        1.53752593e+00,  1.03238905e+00, -2.94658430e-01, -3.52564431e-01,\n",
       "        5.19417107e-01, -7.66175753e-02, -1.78662246e-01,  3.28299536e-01,\n",
       "        6.78883632e-03, -2.55605188e+00,  2.36182678e+00,  2.10296047e+00,\n",
       "       -6.62178083e-02, -7.08303790e-01,  8.17063173e-02,  5.68037687e-01,\n",
       "        5.52933295e-01,  1.95826258e+00,  1.44359273e+00,  1.34677828e+00,\n",
       "       -2.18338847e+00,  9.21386134e-01,  5.35726549e-01,  1.08493383e+00,\n",
       "        9.20406981e-01, -2.20236656e+00, -5.55325608e-01, -2.98633245e-01,\n",
       "        1.22604245e+00, -8.37500881e-01,  1.80406782e+00,  1.36504203e+00,\n",
       "        4.50291324e-01, -1.02328824e+00,  6.75199221e-01, -6.07756144e-01,\n",
       "        4.76167375e-01,  3.44099944e+00,  9.29214315e-02,  7.34358599e-01,\n",
       "       -5.15395660e-01, -2.82538045e-01,  1.11457696e+00, -3.93241702e-01,\n",
       "        5.61220441e-01, -3.50030271e-01, -1.68817872e+00,  1.80579796e+00,\n",
       "       -3.20050796e-01,  4.93609799e-01,  3.53847739e-01, -1.06408884e+00,\n",
       "        1.66887088e-01,  1.38456311e-01,  3.23043207e-02, -1.50040898e+00,\n",
       "        6.93169558e-01,  3.30871791e+00,  4.46855806e-01,  4.06459420e-01,\n",
       "        1.21719403e+00, -2.02366522e+00, -6.09456820e-01,  1.21111850e-01,\n",
       "       -2.03902929e-01, -1.44069557e+00, -1.08181105e+00,  2.06519210e-02,\n",
       "        1.95188772e+00, -1.12425740e+00,  3.57254916e-01,  1.33413979e+00,\n",
       "       -3.65171606e-01, -1.56685411e-01,  5.69995454e-01,  7.33851356e-01,\n",
       "        5.26207497e-01,  3.99316299e-01, -4.38513232e-02, -1.03475782e+00,\n",
       "        9.51679067e-01,  9.95943939e-01,  6.15086405e-01, -2.11185459e-01,\n",
       "        1.15172474e+00, -3.95229557e-01,  2.43726497e-01, -1.73921900e+00,\n",
       "        2.41373988e-01, -2.88533040e-01,  1.07994107e+00, -8.25161039e-01,\n",
       "        6.34533606e-01,  1.37069057e+00,  2.01042189e-01, -1.21762376e+00,\n",
       "       -3.71637873e-01, -6.22505078e-03,  3.41260112e-01, -8.36104695e-01,\n",
       "        9.95770675e-01, -1.44863505e-01, -1.01491836e+00, -1.30410390e+00,\n",
       "       -7.95460182e-01, -2.61221423e-01, -6.17833158e-01, -2.41113869e+00,\n",
       "       -7.95993414e-01, -1.06182014e+00, -3.42551009e-02, -1.84133134e-01,\n",
       "        1.10357679e+00, -2.12613756e-01,  2.75905012e+00,  3.65041093e-01,\n",
       "       -1.01710390e+00, -7.44640499e-01, -5.03301278e-02,  8.44084554e-01,\n",
       "       -2.99256590e+00,  3.10375105e-01,  1.27368445e+00, -1.02905132e+00,\n",
       "       -2.26913786e+00, -1.80303968e-01,  1.01507649e+00,  1.24235759e-01,\n",
       "       -8.85283275e-01, -7.14428920e-01, -1.17617673e+00, -3.67319451e-01,\n",
       "        6.28851835e-01,  1.40776593e+00, -4.43863220e-01, -1.29918201e+00,\n",
       "       -8.51244702e-01,  1.23697847e+00,  7.84603170e-01,  1.96114620e+00,\n",
       "       -1.06395109e-01, -9.18816193e-01,  6.49623458e-01,  5.10864895e-01,\n",
       "        6.24679178e-02, -1.03745758e+00,  2.48291436e-02, -8.55705252e-01,\n",
       "       -1.21533911e+00, -3.18995515e-01, -7.17049197e-01,  5.59699324e-02,\n",
       "       -1.45591451e+00, -2.68591124e-01, -2.71740338e-02,  1.33176346e+00,\n",
       "       -8.87854186e-01,  5.00974306e-01, -4.92125454e-01, -1.57535280e+00,\n",
       "        3.18401977e-02,  1.45397190e+00, -4.69440335e-01, -1.19208539e+00,\n",
       "        9.78916606e-01,  7.48511725e-01, -1.02182951e+00, -4.53450595e-01,\n",
       "       -5.54066768e-01, -8.94529167e-01,  4.48783541e-01, -2.32457099e-01,\n",
       "        3.07099296e-01, -2.28313021e+00, -1.41498533e+00, -6.05917528e-01,\n",
       "        1.18670788e-01,  4.88488949e-01, -1.31869954e+00,  2.37894357e-01,\n",
       "        8.93921882e-01,  1.73593317e+00, -9.93263082e-01, -1.01781154e-01,\n",
       "       -2.97521201e-01,  1.92741473e-01,  5.75270260e-01, -1.15942668e+00,\n",
       "       -8.64176320e-01,  7.56974352e-01, -1.95784204e-01, -9.11760342e-01,\n",
       "       -7.44569723e-01,  1.87383045e+00,  3.29493387e-01,  1.08819670e+00,\n",
       "       -8.29150810e-01, -9.79543139e-01,  6.50106696e-01,  7.81451179e-01,\n",
       "       -1.24546653e-01, -2.78781833e-01, -3.06929466e-01, -3.73275262e-01,\n",
       "       -9.61283956e-01,  7.77275629e-01, -4.41592161e-04, -1.39664146e+00,\n",
       "        9.20387173e-01,  1.93363574e-01, -3.00312102e-01,  7.37608017e-02,\n",
       "        2.75459029e-01, -1.25257214e-01,  2.07813403e-01,  3.51780507e-01,\n",
       "        6.55704465e-01, -5.01503760e-02,  7.16571849e-02,  6.53878680e-01,\n",
       "        1.15867354e+00,  4.93780729e-01, -1.29400036e+00,  9.96502731e-01,\n",
       "        5.86687376e-01, -2.31518154e-01,  1.03866014e+00,  8.26262660e-01,\n",
       "        3.84488953e-02,  3.49713103e-01, -1.82461769e-01,  2.45589037e+00,\n",
       "        5.38467030e-01,  5.66686687e-02, -2.35543357e-01, -1.70179830e+00,\n",
       "        1.20971596e-01, -2.41675730e+00, -1.44765219e+00,  9.78067472e-02,\n",
       "       -2.12160815e-01,  1.27921435e-01,  6.46507030e-02, -7.21918155e-02,\n",
       "       -1.82616602e+00,  6.69152605e-01, -4.40876315e-03, -2.85139560e-01,\n",
       "        2.46187176e-01,  1.52230968e-01, -1.29259090e+00,  9.32907209e-01,\n",
       "       -8.51565798e-01, -5.80763896e-01,  8.40801199e-01, -1.17825178e-01,\n",
       "        2.46351006e-01,  8.71304023e-01,  4.52507104e-01, -7.22777652e-02,\n",
       "        7.49936024e-01, -8.97745288e-01,  1.33815688e+00,  3.17114321e-01,\n",
       "       -7.41787919e-01,  6.09126675e-01, -4.85035471e-01,  7.46671722e-01,\n",
       "        1.58143112e+00, -1.12203463e+00,  1.46608558e-01, -1.59731862e+00,\n",
       "       -8.48532318e-01,  1.41316982e+00, -4.74528463e-01,  4.45412560e-01,\n",
       "        6.19941719e-01, -7.73964999e-01, -1.06700090e+00,  1.22733177e+00,\n",
       "        2.42316171e-01, -6.55962013e-01, -1.63586915e+00,  1.81508538e+00,\n",
       "       -4.13563400e-01, -8.76879879e-02, -8.28934323e-01, -7.45681021e-01,\n",
       "       -7.15451726e-01, -1.31415457e+00, -1.98519122e-01,  4.60653292e-01,\n",
       "       -2.74132931e-02, -2.98802221e-01, -3.03297288e-02,  1.39587910e+00,\n",
       "        1.26788116e+00, -1.73005384e+00, -1.20992273e+00, -5.89623898e-01,\n",
       "       -7.39475762e-01, -5.28815592e-01, -4.29997034e-01,  7.82856346e-01,\n",
       "       -1.26259911e-01,  1.42085727e+00, -5.36697963e-03,  5.73395910e-01,\n",
       "       -8.33677341e-01, -1.14838326e+00, -2.50414741e-01,  4.53625802e-01,\n",
       "       -2.49687647e-01, -2.96688455e-01,  1.69419174e+00,  8.06011633e-01,\n",
       "       -8.26326018e-01, -3.93049103e-01, -6.09764470e-01,  5.27913508e-01,\n",
       "        3.56190119e-01,  6.11939263e-01,  3.45003001e-02,  3.70433856e-02,\n",
       "        5.43672358e-01,  1.39782110e+00, -4.12678965e-01, -1.50542500e+00,\n",
       "        1.83897006e+00,  2.35252984e-01,  2.23073738e-02, -4.79860090e-01,\n",
       "       -3.86980824e-01, -8.79305298e-01,  1.67313369e+00,  3.65471722e-01,\n",
       "        9.23439560e-01, -4.50433864e-01, -1.65735649e-01,  3.64351927e-01,\n",
       "       -4.82500478e-01,  7.56131312e-01, -1.93123948e+00, -1.35120693e+00,\n",
       "       -9.48920906e-01, -3.00617884e-01,  7.39645391e-02, -2.92034463e-01,\n",
       "       -4.15562690e-01,  5.57860366e-01,  4.55060289e-01, -2.40513940e-01,\n",
       "       -5.18369226e-01, -3.48206840e-01,  2.32438087e+00, -3.59612780e-01,\n",
       "       -8.65882641e-01, -1.26103436e+00,  6.19439595e-01,  2.76923823e+00,\n",
       "        1.60618021e+00,  1.57398412e+00, -6.59589471e-01, -1.51420110e+00,\n",
       "        6.48709608e-01,  6.84631429e-01,  1.15314759e+00, -3.38170772e-01,\n",
       "       -9.90347151e-01,  1.71026405e+00,  1.21550437e-01,  1.12148362e+00,\n",
       "        1.64505788e-03, -6.94167696e-01,  7.90716808e-01,  1.12205812e+00,\n",
       "        1.48286873e+00,  1.07074106e+00,  7.18055978e-02, -3.74254712e-01,\n",
       "        6.14910040e-01,  7.43200866e-01,  8.15915113e-01,  1.71436134e+00,\n",
       "        9.08301887e-01, -5.79007883e-01, -1.76256095e-01,  3.56087261e-01,\n",
       "       -1.60740387e+00, -5.97811020e-01, -4.03565000e-01,  4.57923155e-01,\n",
       "       -1.37817029e+00,  8.68014509e-01, -5.15699205e-01, -1.21709010e+00,\n",
       "        5.35751352e-01,  1.19334541e-02, -3.54708066e-01,  4.10280176e-01,\n",
       "       -5.86204345e-01,  1.25465739e+00, -7.70114903e-01,  2.73467269e-01,\n",
       "        3.01390905e-01, -1.59202258e+00, -8.23145869e-01,  9.78654657e-01,\n",
       "       -8.53264161e-01, -5.67314755e-01, -1.05199914e-01,  2.48387583e-01,\n",
       "        1.19901965e+00,  3.35323702e-01, -1.70329648e+00, -6.28372791e-01,\n",
       "        8.52102966e-02,  5.20070644e-02,  1.12552831e+00, -8.06635431e-01,\n",
       "        3.42564214e-02, -6.82400250e-01,  8.12758550e-01,  1.22253558e+00,\n",
       "        5.57733340e-01, -3.07074369e-01,  1.71290240e+00,  1.72628245e+00,\n",
       "       -2.42195468e+00,  3.66590937e-01, -7.78025607e-01,  1.40126051e+00,\n",
       "       -1.46163866e+00,  8.19239077e-01,  2.78681711e-01,  1.33466614e+00,\n",
       "       -8.51685364e-01,  5.05805639e-01, -4.52844284e-01,  4.13727106e-01,\n",
       "        5.03915544e-01,  2.59573828e+00, -7.91659228e-01, -9.55931070e-01,\n",
       "       -9.47333377e-01, -8.24470187e-01, -1.22827462e+00,  7.81552505e-01,\n",
       "       -5.22719341e-01, -5.19742114e-01, -3.96475572e-01, -7.16272718e-01,\n",
       "        9.89869420e-05,  7.56801152e-01,  1.07457036e+00, -3.63802587e-01,\n",
       "        5.82705880e-02, -1.83618205e-01,  5.33735636e-01, -2.14019499e+00,\n",
       "       -1.18057920e+00,  1.02682830e+00, -6.66228542e-02,  1.85354589e-01,\n",
       "        1.68365004e+00,  1.09191523e+00,  2.14898120e+00, -2.06709468e+00,\n",
       "       -1.70921061e+00, -1.52115153e-01, -1.80574396e-01,  6.69406610e-01,\n",
       "        1.36385359e-01, -1.57361246e+00,  1.39565919e+00,  4.98489423e-01,\n",
       "       -1.12779402e+00,  1.72118167e-01,  4.87229830e-01, -6.57634923e-01,\n",
       "       -1.35664047e+00,  9.09577514e-01,  1.32055868e+00, -1.50232161e-01,\n",
       "       -4.30966872e-01, -2.81506234e-01, -1.28627537e-01, -4.32219205e-01,\n",
       "       -8.87170831e-01,  2.05218861e+00, -9.83908348e-01, -5.22317283e-01,\n",
       "        4.19447443e-02,  8.70259472e-01,  6.75528693e-01,  3.16504252e-01,\n",
       "       -5.45577472e-01, -1.78669606e+00,  4.61178903e-01, -4.96813190e-03,\n",
       "       -4.26533662e-01, -1.37191548e+00,  1.77141182e+00, -1.61695939e+00,\n",
       "       -4.89662634e-01,  9.39985128e-04, -1.98237860e+00, -1.01209945e+00,\n",
       "        1.79222766e-01,  4.58022903e-01, -1.06223878e+00,  8.15537569e-01,\n",
       "        1.33005958e-01, -9.31220452e-01,  1.51318106e+00, -3.52888763e-01,\n",
       "        7.35919060e-01,  5.45343522e-01, -1.02484311e-01,  9.68460897e-01,\n",
       "       -7.28874596e-01, -5.95287535e-02, -3.81878121e-01,  2.68857471e-01,\n",
       "        6.86530930e-01,  7.66665450e-01, -5.38751514e-01, -7.86117539e-01,\n",
       "       -8.50552693e-01, -4.06207124e-02, -1.63640276e+00,  8.36463942e-01,\n",
       "       -9.17881769e-01, -5.98218025e-01, -1.20324582e+00,  1.10140055e+00,\n",
       "       -1.04824866e+00,  4.36136519e-01, -2.02757574e-01, -1.06306136e-01,\n",
       "        1.96116550e+00, -8.22037757e-01,  1.59356416e+00,  1.02147182e+00,\n",
       "       -3.30433248e-01,  1.54683174e+00, -1.53972711e+00, -5.35006798e-01,\n",
       "        2.76980050e-01, -2.73513216e-01, -1.15732626e+00, -1.64332561e+00,\n",
       "       -3.12106011e-01,  3.14191870e-02,  1.08160810e+00, -1.08311855e-01,\n",
       "        2.31531505e+00, -1.79666345e+00, -6.14760688e-01, -2.20133157e-01,\n",
       "       -4.14984817e-01,  1.14934046e+00,  1.20791425e+00,  4.24583329e-01,\n",
       "       -1.17409316e+00, -1.31510334e+00,  5.21307604e-01,  4.46249106e-02,\n",
       "        1.09168678e+00,  1.12785384e+00,  4.45915046e-01, -4.69098852e-01,\n",
       "       -1.08915735e-01,  1.76693348e+00, -5.03797995e-01,  2.57498717e-01,\n",
       "        3.41822107e-02, -7.14989981e-01, -6.87166797e-01,  9.76318811e-01,\n",
       "        6.50426296e-02,  1.59569108e+00,  5.26127318e-01, -4.93167387e-01,\n",
       "        3.44841230e-01,  9.33006520e-01,  4.76079067e-01,  7.94526816e-01,\n",
       "        3.55122012e-01, -3.57107827e-01,  1.07945598e+00, -5.21159560e-01,\n",
       "       -1.80850174e+00, -6.38340929e-01,  1.84908384e+00,  1.66094123e+00,\n",
       "       -9.69715860e-01,  2.66999905e-01, -2.09740384e-01, -1.14693264e+00,\n",
       "        9.03765566e-01,  1.14375608e-01,  1.35986332e+00,  4.25462917e-01,\n",
       "       -5.93897755e-01, -1.34543140e+00, -1.26233380e+00, -8.28253088e-01,\n",
       "       -3.93875093e-01, -1.93868925e-01, -4.09340350e-01,  1.73052606e+00,\n",
       "        2.08177401e+00,  6.31725770e-01, -3.81975810e-01,  1.27281681e+00,\n",
       "       -1.00779420e+00,  4.13067861e-01, -1.54017607e-01, -6.50123011e-02,\n",
       "        2.62893505e-02,  1.24421916e+00, -1.06073363e+00, -2.49683750e+00,\n",
       "        5.10680339e-01, -7.62723244e-01, -1.18167959e+00,  1.83625669e+00,\n",
       "       -2.08002386e+00, -4.36100337e-01, -9.67242442e-01,  3.23070372e-01,\n",
       "       -1.67392097e+00,  5.02965044e-01,  1.69693340e-01, -6.77695136e-01,\n",
       "       -2.32012267e-01, -1.97889306e+00,  8.80840540e-01,  3.00930781e-01,\n",
       "       -1.44156054e-01, -1.45170337e+00,  8.96916099e-01, -5.98431935e-01,\n",
       "       -1.01146368e+00, -1.84845597e+00,  7.69985770e-01, -1.15290671e+00,\n",
       "       -1.02957109e+00,  3.15763087e-01, -1.25452231e+00, -3.55319962e-01,\n",
       "       -5.15685109e-01,  1.49833273e+00, -1.38848696e+00, -9.52078824e-01,\n",
       "       -1.30928745e+00,  3.20110491e-01, -1.01452833e+00, -3.17130525e-01,\n",
       "       -1.11777583e+00, -8.31734490e-01,  7.39488934e-01, -1.48900130e+00,\n",
       "        1.69636192e+00, -9.74009183e-01, -1.25140968e+00,  9.42415844e-01,\n",
       "        7.05265713e-01, -2.84642740e-01,  1.54571004e+00, -1.90655095e+00,\n",
       "       -7.79240101e-01, -8.13827003e-01, -3.78863302e-01,  7.56090119e-01,\n",
       "        3.42299940e-02,  4.80949716e-01,  9.20699139e-01, -2.51869725e-01,\n",
       "       -1.33970970e-01, -7.99191278e-02, -1.98512624e-01, -4.80521894e-01,\n",
       "        2.49591957e+00,  4.15710662e-01, -1.69824940e+00, -1.34908409e+00,\n",
       "       -4.39385410e-01, -6.04759770e-01, -1.28329486e+00,  8.14570862e-01,\n",
       "       -1.04377481e+00, -1.17076212e+00, -8.04483916e-01,  9.65147225e-01,\n",
       "       -2.49095998e+00,  6.34969654e-01,  7.61241487e-01,  7.00970187e-01,\n",
       "       -6.76278028e-01, -2.08642574e-01, -6.82133857e-01,  1.01080663e+00,\n",
       "       -7.39890049e-01,  9.04007945e-01,  1.33563431e+00,  1.34129014e+00,\n",
       "       -8.30063999e-02,  3.90383074e-01,  7.07015282e-02,  8.67870764e-01])"
      ]
     },
     "execution_count": 4,
     "metadata": {},
     "output_type": "execute_result"
    }
   ],
   "source": [
    "x = np.random.randn(1000) # random sample of 1000 numbers\n",
    "x"
   ]
  },
  {
   "cell_type": "code",
   "execution_count": 5,
   "metadata": {
    "scrolled": false
   },
   "outputs": [
    {
     "data": {
      "image/png": "[encoded data removed]",
      "text/plain": [
       "<Figure size 432x288 with 1 Axes>"
      ]
     },
     "metadata": {
      "needs_background": "light"
     },
     "output_type": "display_data"
    }
   ],
   "source": [
    "plt.hist(x)\n",
    "plt.title('1000 random floats')\n",
    "plt.show()"
   ]
  },
  {
   "cell_type": "code",
   "execution_count": 6,
   "metadata": {
    "scrolled": true
   },
   "outputs": [
    {
     "data": {
      "text/plain": [
       "array([[ 0.49674783,  0.09914979, -0.88905228,  2.09237339, -0.94907021],\n",
       "       [ 0.1857249 , -0.3311213 ,  0.75256885, -1.24493471, -0.39573001]])"
      ]
     },
     "execution_count": 6,
     "metadata": {},
     "output_type": "execute_result"
    }
   ],
   "source": [
    "x = np.random.randn(2, 5) # random array 2 dimensions of 5 floats\n",
    "x"
   ]
  },
  {
   "cell_type": "code",
   "execution_count": 7,
   "metadata": {
    "scrolled": true
   },
   "outputs": [
    {
     "data": {
      "text/plain": [
       "array([[[-0.45674453,  0.3185131 , -1.1764751 ],\n",
       "        [-0.55393809,  1.05717778,  1.24735545],\n",
       "        [-0.40765885,  1.72750958, -0.40552946]],\n",
       "\n",
       "       [[ 1.3428297 , -0.63466597,  0.07071609],\n",
       "        [-0.68270576, -0.52861292, -0.89232166],\n",
       "        [ 0.05302723, -1.05999816,  0.18594475]],\n",
       "\n",
       "       [[-1.40840602, -1.36481767,  0.81127377],\n",
       "        [ 0.364933  , -1.36345445,  0.0588517 ],\n",
       "        [-0.64189694,  1.48755883,  0.0634064 ]]])"
      ]
     },
     "execution_count": 7,
     "metadata": {},
     "output_type": "execute_result"
    }
   ],
   "source": [
    "x = np.random.randn(3, 3, 3) # 3 random arrays of 3 dimensions of 3 floats\n",
    "x"
   ]
  },
  {
   "cell_type": "code",
   "execution_count": 8,
   "metadata": {
    "scrolled": true
   },
   "outputs": [
    {
     "data": {
      "text/plain": [
       "array([[[ 0.2938031 , -0.64696095, -0.3865633 ],\n",
       "        [ 0.67611532,  0.49522518, -0.51127064],\n",
       "        [-1.33949578, -0.69439151,  0.94307121],\n",
       "        [ 0.57087881, -0.12749664, -0.96207306]],\n",
       "\n",
       "       [[-0.69308565,  0.69207241, -1.58939209],\n",
       "        [-1.57119645, -0.25694448,  0.22617192],\n",
       "        [-1.13816672, -0.38007951, -1.04659402],\n",
       "        [ 0.55674484,  0.16240168, -2.46268584]]])"
      ]
     },
     "execution_count": 8,
     "metadata": {},
     "output_type": "execute_result"
    }
   ],
   "source": [
    "x = np.random.randn(2, 4, 3) # 2 arrays of 4 arrays of 3 random floats\n",
    "x"
   ]
  },
  {
   "cell_type": "code",
   "execution_count": 9,
   "metadata": {
    "scrolled": true
   },
   "outputs": [
    {
     "data": {
      "text/plain": [
       "array([[[[-0.69554277, -0.3530348 , -1.16753561, -0.07385503,\n",
       "           0.21635231],\n",
       "         [ 1.00210975, -1.27321026, -0.17973818, -0.29487375,\n",
       "          -0.36859147],\n",
       "         [ 0.97426719,  0.89421524, -1.19420301,  0.47182708,\n",
       "          -1.40601011]],\n",
       "\n",
       "        [[ 0.09492611,  1.28591087, -0.30693617, -1.43238368,\n",
       "           0.58979136],\n",
       "         [ 1.0166749 , -0.34165352,  1.08737724,  0.77001785,\n",
       "           0.38434283],\n",
       "         [ 3.25573518,  2.01043715,  0.0584843 , -0.59392025,\n",
       "           0.25724523]],\n",
       "\n",
       "        [[-1.83671023,  0.9710875 , -0.02200536, -0.56088107,\n",
       "          -1.17173224],\n",
       "         [ 1.16523492,  0.79277592,  0.07524453,  1.30507177,\n",
       "           0.94251834],\n",
       "         [-1.60596487, -0.02154093, -1.60532214, -0.42660511,\n",
       "           1.21542222]],\n",
       "\n",
       "        [[-0.39276669, -0.63815939,  1.33179283,  1.56871201,\n",
       "           0.27760125],\n",
       "         [ 0.59460855,  1.22733274,  0.37448763, -1.88776722,\n",
       "          -0.86184121],\n",
       "         [-1.15718514, -0.28224305,  0.81319311,  0.77091732,\n",
       "           0.02796838]]],\n",
       "\n",
       "\n",
       "       [[[-0.3087701 , -1.3119247 ,  0.01794968, -0.20570418,\n",
       "          -0.48569369],\n",
       "         [-0.56143353, -1.58345798,  0.75207118, -2.73800313,\n",
       "          -0.92863136],\n",
       "         [ 0.42945765,  0.53239738, -1.6101317 , -0.69553915,\n",
       "           0.22481519]],\n",
       "\n",
       "        [[ 0.73218976, -0.81786668, -0.82873999,  0.50057847,\n",
       "          -0.16116865],\n",
       "         [-1.20507075, -0.92530258,  1.40902314, -0.40436955,\n",
       "          -0.30771078],\n",
       "         [ 0.51305865,  0.23386842,  1.07852386, -0.80932908,\n",
       "          -1.74925125]],\n",
       "\n",
       "        [[-0.89918664,  1.1444132 , -1.00616161,  0.97351174,\n",
       "          -0.65112992],\n",
       "         [ 1.14225925, -0.16134339, -0.30249921, -2.17746916,\n",
       "           0.91890583],\n",
       "         [-1.33496907,  1.41307698,  0.66810515, -0.18100306,\n",
       "           0.55274219]],\n",
       "\n",
       "        [[ 1.78848961, -0.71131149, -0.24479971,  0.32168334,\n",
       "           1.70048921],\n",
       "         [-1.34359272, -1.14763625,  2.46581298,  0.5001513 ,\n",
       "          -0.7851788 ],\n",
       "         [-0.41894817, -0.19032702,  1.15249309, -1.26788737,\n",
       "           0.16893328]]],\n",
       "\n",
       "\n",
       "       [[[-0.85705822,  0.82290879,  1.51302031, -1.60028974,\n",
       "          -1.14523853],\n",
       "         [ 0.80720488,  0.2200616 ,  0.35250024, -0.19076262,\n",
       "           0.88817806],\n",
       "         [ 1.53347462,  1.98714846,  0.74229527,  0.70083266,\n",
       "          -0.5897982 ]],\n",
       "\n",
       "        [[-0.51095508, -0.19428635,  0.56581728, -0.51075405,\n",
       "          -1.53882141],\n",
       "         [-0.74714613, -0.18172172, -2.41267628, -2.47715133,\n",
       "          -0.25226306],\n",
       "         [-0.39405223, -0.17226432, -1.59099274,  0.80116861,\n",
       "           1.13003435]],\n",
       "\n",
       "        [[-0.68020745, -0.31497717, -0.61886313,  0.02387189,\n",
       "           0.34366389],\n",
       "         [ 0.15319001, -0.57128285,  1.38535674,  0.68912398,\n",
       "           0.0077714 ],\n",
       "         [ 0.01001686,  0.87906903, -1.12945825, -1.09955927,\n",
       "           0.16464801]],\n",
       "\n",
       "        [[ 1.65142557, -0.05171729,  0.33569529,  2.39785065,\n",
       "           0.224197  ],\n",
       "         [-0.87991514,  0.50310834,  0.82995517,  0.56732985,\n",
       "           0.35687159],\n",
       "         [-0.4585289 , -1.06275179,  0.7954397 ,  0.12752406,\n",
       "          -0.35738742]]]])"
      ]
     },
     "execution_count": 9,
     "metadata": {},
     "output_type": "execute_result"
    }
   ],
   "source": [
    "x = np.random.randn(3,4,3,5) # 3 sets of 4 arrays holding  3 arrays of 5 random floats\n",
    "x\n",
    "# it can get very complicated"
   ]
  },
  {
   "cell_type": "markdown",
   "metadata": {},
   "source": [
    "### Numpy.random.standard_normal\n",
    "\n"
   ]
  },
  {
   "cell_type": "markdown",
   "metadata": {},
   "source": [
    "This function \n",
    "standard_normal() takes at most 1 positional argument"
   ]
  },
  {
   "cell_type": "code",
   "execution_count": 10,
   "metadata": {
    "scrolled": true
   },
   "outputs": [
    {
     "data": {
      "text/plain": [
       "float"
      ]
     },
     "execution_count": 10,
     "metadata": {},
     "output_type": "execute_result"
    }
   ],
   "source": [
    "type(np.random.standard_normal()) # the type of number returned is a float"
   ]
  },
  {
   "cell_type": "code",
   "execution_count": 11,
   "metadata": {
    "scrolled": true
   },
   "outputs": [
    {
     "data": {
      "text/plain": [
       "1.1094880708509613"
      ]
     },
     "execution_count": 11,
     "metadata": {},
     "output_type": "execute_result"
    }
   ],
   "source": [
    "np.random.standard_normal() # if you do not enter a size it will return a single float"
   ]
  },
  {
   "cell_type": "code",
   "execution_count": 12,
   "metadata": {
    "scrolled": true
   },
   "outputs": [
    {
     "data": {
      "text/plain": [
       "0.255605643020525"
      ]
     },
     "execution_count": 12,
     "metadata": {},
     "output_type": "execute_result"
    }
   ],
   "source": [
    "np.random.standard_normal()"
   ]
  },
  {
   "cell_type": "code",
   "execution_count": 13,
   "metadata": {
    "scrolled": true
   },
   "outputs": [
    {
     "data": {
      "text/plain": [
       "array([ 0.20611733,  1.11065008, -1.3303248 , -1.44636575,  2.40531861,\n",
       "       -0.24071872,  0.29221926, -1.82071786,  0.2347043 ,  1.02464742,\n",
       "        0.19679502, -1.27285228,  2.05044205, -0.76299557, -0.60482435,\n",
       "        1.07168353,  0.68484245, -1.36463147, -0.4188209 , -1.40699321,\n",
       "       -0.18438455, -1.42543147,  1.1451055 ,  0.09243569,  0.84750263,\n",
       "        0.24194763,  0.28706491,  0.16318247,  1.65783172,  0.4580532 ,\n",
       "        0.09802213,  0.88364437,  0.73507506, -0.70533268, -0.60160688,\n",
       "        0.03850775,  0.18704794,  0.97504882,  0.10904517,  0.25535575,\n",
       "       -1.12539255,  0.13313584,  0.50482667, -0.46468211, -0.29510799,\n",
       "        0.90663266, -1.72516967, -0.35294359, -0.58795851,  1.02148644,\n",
       "        0.67675161, -0.79337475,  0.07194532, -0.99926773, -1.06494888,\n",
       "       -1.74299456, -0.8035627 , -0.75496218, -2.01114299,  0.11285584,\n",
       "        2.42668219, -0.10208764, -0.08098286,  0.12036361,  1.45470971,\n",
       "       -0.56040887,  2.43013585, -1.10233889,  0.25525772, -0.19953847,\n",
       "       -0.21409959, -1.05243647,  0.11357481,  1.79629387, -1.07468272,\n",
       "       -0.56249818,  0.64154419,  0.5101385 , -1.08434365, -1.37354863,\n",
       "        1.28303726,  0.03142702,  0.60395547,  1.20838556, -0.44386116,\n",
       "       -0.6998799 ,  0.33415861, -2.30184275, -0.0211582 ,  0.51900728,\n",
       "        2.1842847 , -0.55275974,  1.88122362, -1.8318738 , -0.89979773,\n",
       "        0.69191644,  0.3212067 , -0.71848279,  0.76419482, -0.1781455 ,\n",
       "       -0.69707232, -0.19550097, -0.01704553,  0.76260855,  0.09579729,\n",
       "       -0.1001425 ,  0.82511763, -0.24963495,  0.89346314, -0.7792064 ,\n",
       "        0.80208259,  0.39158179,  1.23715187,  1.59810594, -0.78576909,\n",
       "        1.69703786,  0.09036013,  0.44211293, -0.17972002,  0.59009166,\n",
       "       -1.72447982,  0.60370553, -0.33175999,  0.18535431,  2.14896929,\n",
       "        1.65396898, -0.902134  , -0.67727622,  0.7146419 , -0.83145097,\n",
       "        1.24414681,  0.49623828,  0.40499595, -0.29398866, -0.55251742,\n",
       "       -1.46866235, -0.24046737, -0.96720474,  0.3010177 ,  0.67208919,\n",
       "        0.83142313,  1.09142364,  0.11086458, -1.08098662,  1.08170826,\n",
       "        0.90488988, -1.33289359, -0.92595336,  1.89479415,  1.48770054,\n",
       "        0.87893803,  1.01142065, -1.29317805,  1.115676  , -1.04970809,\n",
       "        0.50543549,  1.48134814, -0.97860849, -2.24440263,  1.33625831,\n",
       "       -1.54836233, -0.90635228,  0.21368121, -0.42050414,  1.06783401,\n",
       "        0.44925772, -0.95844554, -0.39718657,  1.98808727,  0.65133155,\n",
       "       -0.43106582,  0.00878916, -1.65757306, -0.31485731, -0.77797902,\n",
       "       -2.33329532,  1.37341076,  0.86927572,  0.81981354, -0.53823252,\n",
       "       -0.11355583, -0.05892502, -1.03790486,  1.30791892, -0.13114391,\n",
       "       -2.52640795, -1.42266862, -2.23282849, -0.03462185,  0.16132356,\n",
       "       -0.28255293,  0.46377336, -2.19754078, -1.01522766, -0.1504938 ,\n",
       "       -0.2428648 ,  1.12539586, -0.72386427, -0.61692917, -2.29811796,\n",
       "       -0.65082901,  0.76775362, -0.16848414,  0.04375283, -1.0652188 ,\n",
       "        0.55485335,  0.98329953,  0.98704462, -1.36186828,  0.23807585,\n",
       "       -0.22846367,  0.78367722,  0.39429236,  0.19270993,  0.14510733,\n",
       "       -0.33036939,  0.26944892, -0.94455442, -0.83544362,  0.19949786,\n",
       "       -0.61757596, -1.19058136, -0.94142802,  1.75658007, -0.11098219,\n",
       "       -0.6950827 ,  0.20922072,  0.20171936, -0.72888719,  1.32775924,\n",
       "        0.03329457,  0.19903987,  1.28126533,  0.25350497,  1.3331296 ,\n",
       "       -0.12939213, -0.54564081,  0.70176236,  0.14154749, -0.93428722,\n",
       "        0.12948277,  0.95944421,  0.10000114,  0.32579346,  1.53291419,\n",
       "        0.63836476, -0.76233161,  0.14823916,  0.35820579, -1.54797335,\n",
       "       -0.25665916, -1.12282033, -0.91491858,  0.43794916,  0.88618058,\n",
       "        0.13839895, -0.27759001,  1.11090658, -1.75643489, -1.35072767,\n",
       "       -0.25829364, -0.65712935, -0.12636104,  0.6515862 ,  0.18081683,\n",
       "       -0.12469095, -1.50913132, -2.11876497,  0.92433094, -1.09336994,\n",
       "        0.51799339, -0.8611361 ,  2.02254822, -0.27107913, -1.64861724,\n",
       "        0.91312035, -0.32417679, -0.42813175, -0.43809412,  0.85191482,\n",
       "        0.69850582,  0.40353499, -0.18463645,  0.46928248, -0.23167894,\n",
       "        0.12622362,  0.45249403,  0.39221425, -1.3982679 ,  0.48739927,\n",
       "       -0.05774058, -0.79678512,  0.52616152,  0.07370663,  1.34906846,\n",
       "        0.23444155, -1.44262116, -0.16737346,  0.41327373,  1.19408512,\n",
       "       -1.36213208,  2.56771112, -0.92524775, -0.97692038,  0.40825542,\n",
       "        1.24442081, -0.73326187, -0.92841367,  0.85197052, -1.36760782,\n",
       "        1.51168319,  0.79224093,  0.02267551, -0.25992089, -0.44330704,\n",
       "        0.29975168,  0.56501229,  0.55761333, -0.62171182,  0.84529285,\n",
       "       -0.31002412, -0.29500001, -1.18744203, -1.05253558, -0.45284168,\n",
       "        1.45993471,  1.02707312, -0.77218083, -0.9987106 ,  2.57540232,\n",
       "       -0.6240022 ,  0.9444415 , -0.99342974,  1.5268061 , -0.6178301 ,\n",
       "       -1.19678206,  0.56573231, -0.3211856 , -0.12604453,  0.90742978,\n",
       "        0.91987398, -1.9839741 ,  0.13776246,  1.28676341,  0.15844579,\n",
       "       -0.33109371, -3.13185252, -1.4308526 , -0.90967589, -0.35214865,\n",
       "        1.02801827,  0.16509516, -1.97699793,  0.02340298,  0.88927187,\n",
       "       -1.35775656,  0.8186165 ,  0.0206521 , -0.0224442 , -1.3354533 ,\n",
       "       -1.5920318 ,  0.35904707,  0.56944475,  0.46397023, -1.19528647,\n",
       "        1.18253733,  1.15271265,  0.00885286, -0.04060836, -0.37516909,\n",
       "       -3.30112338, -0.81012222,  1.34280614,  1.17190376, -0.27146047,\n",
       "        1.76172425,  0.96404991,  1.83556313, -0.76725618, -0.68862412,\n",
       "        0.17916686,  0.54412967, -0.85227579,  0.59254567, -1.11642471,\n",
       "        0.58448916,  0.0479881 ,  0.27791103, -1.72623025, -1.85361407,\n",
       "       -0.81957025, -0.4852748 ,  0.45936062, -0.25261025,  0.0239695 ,\n",
       "        2.06482187,  0.93624775, -0.39960914, -0.47368219,  0.86748971,\n",
       "        0.48815424,  0.45962913,  1.43799998, -1.37511486,  1.49171697,\n",
       "        0.45035719, -0.36307603, -0.28203881, -0.16523581,  1.95963709,\n",
       "        0.23482373, -0.06077092, -1.12233155,  0.90489944, -0.05778637,\n",
       "        0.18788854, -0.07598441,  1.5533995 , -0.24692006, -1.17550522,\n",
       "        0.02270451,  0.11663656,  0.64149609, -0.82795744,  0.06703095,\n",
       "       -0.48412528, -0.20131605, -2.21437734, -0.79514342, -1.95948843,\n",
       "       -0.58667415,  0.700132  , -0.46500785,  1.50341588, -0.85330451,\n",
       "       -0.08533085, -0.6665355 ,  0.48390135,  1.80414411,  0.44388815,\n",
       "        0.44576865, -0.55573989, -0.76736603,  1.38619528,  1.3857158 ,\n",
       "       -0.61597407, -0.86116728, -1.56619679, -0.63119737,  0.34270883,\n",
       "        0.70352664,  1.940689  ,  0.89428774,  0.42212284, -1.70067486,\n",
       "        1.65637479, -0.02996068,  1.9780031 , -1.35307433,  0.05421865,\n",
       "        0.62938307, -0.62929216,  0.02997877, -1.07380725, -0.62107101,\n",
       "        0.39877055, -0.55320637, -0.96064721, -1.03117227, -0.19172196,\n",
       "       -0.68465324, -0.11872965, -0.22902954, -0.89633825, -1.52886354,\n",
       "        2.08660507, -1.77321735,  0.00680109,  1.37603355, -0.31641583,\n",
       "       -0.32360797, -1.7694661 ,  0.68592021, -0.90337268, -0.61458752,\n",
       "       -1.17137115,  0.91632194,  0.02489711, -1.37767202, -0.20227789,\n",
       "        2.37448924,  0.87183871, -0.02516802,  0.37814043, -0.53694002,\n",
       "        2.29655993,  1.12158228,  0.62914794, -0.18665976, -0.46466065,\n",
       "        0.23668052, -0.47154843,  0.83048391, -0.47561312,  0.5637426 ,\n",
       "        1.03058502, -0.86964649,  0.65195819,  0.51157565,  0.42588332,\n",
       "       -1.19201165, -0.13078164, -1.4484996 , -0.26623361,  2.64542657,\n",
       "       -0.09673082,  1.20089089,  0.81842727,  0.40858485, -0.07282398,\n",
       "       -0.45131907,  2.09965528,  1.11015867,  1.7978181 , -0.41450105,\n",
       "       -0.21032571, -0.29119096,  0.25850572, -0.69280134,  1.97746766,\n",
       "       -1.31363396,  0.57022457, -1.79774583,  1.24466309,  0.03560333,\n",
       "        1.46224327,  1.63674832,  0.81831369,  1.5622435 , -1.25658162,\n",
       "        0.53713937, -0.34357801, -0.35092916, -2.55930935,  1.35830989,\n",
       "       -1.80240666,  1.07669953, -0.22667021,  0.1924489 , -0.42499814,\n",
       "        0.59285552, -0.15540921,  0.0199405 ,  1.06134533, -0.95608051,\n",
       "       -0.2961355 ,  0.50585992, -0.72525045,  1.10523043, -0.6315833 ,\n",
       "        1.62413751,  0.37556226, -0.7547696 ,  1.72332844, -0.94530549,\n",
       "       -0.81899319,  0.30741739, -0.20801948, -0.71039765,  0.51114264,\n",
       "        1.43294832, -0.79873332,  0.04922937,  1.0572946 ,  1.17937325,\n",
       "        1.36714091,  0.76051981,  0.74218082, -0.19474933, -0.23172815,\n",
       "       -0.38838848, -1.48693107, -0.32471445,  0.38034632,  1.2675398 ,\n",
       "       -1.71251184, -0.09803776, -0.04192054,  0.89820908,  0.013717  ,\n",
       "        1.62112529,  1.32073626, -0.58081248, -0.09618919,  0.70651483,\n",
       "       -0.19924393,  0.40592238,  1.89863701, -0.86507012,  2.01151576,\n",
       "        1.6333114 , -0.96963117, -0.25425413, -0.66885633, -2.01983106,\n",
       "       -0.8349173 ,  0.91113295, -1.16497217, -1.74655175, -1.12016999,\n",
       "        0.42659427, -0.29628693,  0.66250803,  1.59368179, -0.72286118,\n",
       "        0.27421333,  0.23467009, -1.07053717,  0.54610204, -1.16369534,\n",
       "       -1.02480922, -0.8443123 , -0.16344237,  2.58044157,  0.42719555,\n",
       "        0.92181181,  0.59455485,  1.06127401,  0.38246655,  0.70197073,\n",
       "       -1.04400065, -0.03605125,  0.3958136 , -0.21039711,  1.40940304,\n",
       "        0.76427968,  1.07786821, -1.35903115, -0.70572698,  0.64051607,\n",
       "       -0.15042287, -1.01439465, -0.24104336, -0.46835356,  0.03417843,\n",
       "        0.09827324,  0.0284399 ,  1.23090965,  0.45030956,  1.17842515,\n",
       "       -0.17021626, -0.57745331, -0.30847239,  0.9268656 ,  0.15788427,\n",
       "        0.69412199,  0.78924584,  0.66311847,  0.60148374,  0.64366782,\n",
       "       -0.87129672, -0.51003272, -0.01278667, -1.41319654, -0.26582034,\n",
       "        0.94921883, -1.03631689,  1.4999274 , -0.82123219, -0.44487414,\n",
       "       -0.83580447, -2.15238673, -0.58978086,  0.66911317,  0.25985998,\n",
       "        0.83562141, -0.19604984,  0.70609124,  0.54487576, -0.61845004,\n",
       "       -1.13366319,  0.0315611 ,  1.34560944,  0.64354303,  0.91013043,\n",
       "        0.30193523, -0.37569159,  1.77719117, -0.78946348, -0.6865283 ,\n",
       "       -0.35529058,  0.10464211,  0.65859519,  0.19495442,  0.26883787,\n",
       "        1.94101292,  2.01088861,  0.30627753,  0.32310639, -0.17338744,\n",
       "       -0.2649863 ,  0.72372289,  0.3207523 , -1.02352047, -2.12265267,\n",
       "       -3.13499866, -0.48145015,  0.39565014, -0.1666155 ,  0.00821567,\n",
       "        0.48999754,  0.09796028,  0.81751169,  0.38879415, -0.3393644 ,\n",
       "        0.81665177,  0.56706405,  0.00843116,  0.67078418, -0.20772371,\n",
       "        2.07154779, -0.92591123, -1.15982365, -0.8583608 , -1.3239729 ,\n",
       "        1.27329504, -0.87740976,  1.17668571,  0.43101677, -0.67377364,\n",
       "        0.27412241,  0.02556364,  0.63264376, -0.41197207,  0.37818951,\n",
       "        2.16941036, -1.1428077 , -2.43564405, -1.77072121, -1.41853334,\n",
       "       -1.14394804, -0.84615706, -1.37061835, -1.30035352, -0.07820388,\n",
       "       -0.16405899, -0.99258597, -0.62803943, -1.47818097, -0.13466344,\n",
       "        0.78743801, -0.40546239, -0.015592  ,  0.48696461,  0.30043097,\n",
       "       -0.3666089 ,  0.62163095,  0.7527727 , -0.63042249,  0.56749126,\n",
       "        0.74862248,  0.5571334 ,  0.06953042, -0.11285412,  0.16193856,\n",
       "        0.15151646,  0.99360487,  0.3454966 , -0.36947139, -0.9518573 ,\n",
       "       -0.06269718, -0.54745375,  0.13581585, -0.04802988,  1.1763572 ,\n",
       "        0.21365062, -0.50083134, -1.0614889 , -1.83312234, -0.55460245,\n",
       "        0.50077846, -0.26156443, -1.0902811 , -1.28658606,  0.91048975,\n",
       "       -0.63353694, -0.07754121, -0.43883138, -0.43837181,  0.34451264,\n",
       "       -0.51470073, -0.37706431,  0.33739998,  0.22199513, -0.77047673,\n",
       "        0.24309561, -0.60526655,  0.41341813,  0.49288718,  0.3944208 ,\n",
       "       -0.03065723,  0.55165439, -0.87587196,  1.01839838, -0.59618366,\n",
       "        0.86215741,  0.8507029 , -0.17576942, -0.12782087,  0.50164735,\n",
       "        2.29314596,  0.52012238, -0.36357689,  0.56841833, -0.43096311,\n",
       "        0.89721503, -0.32654063, -0.77028048,  0.1439115 , -0.74891851,\n",
       "        0.77814041, -0.09709436, -1.11872946, -1.45483559, -1.58866878,\n",
       "       -0.50656298, -0.54773188,  0.09476837, -0.08099275,  0.0223083 ,\n",
       "        0.41647093,  0.01005455, -0.46205938, -0.43715686,  0.33238846,\n",
       "       -1.16582704, -0.45115152,  0.7176423 , -1.53539867, -0.1597631 ,\n",
       "        0.60914291,  0.80737397, -2.65782942,  0.00751549, -0.49023826,\n",
       "       -0.57261906, -1.08438466,  0.33458088, -1.23664503, -1.09677035,\n",
       "       -1.84148275,  0.02793475,  1.12260866, -1.91459474, -1.54801744,\n",
       "        0.22195557,  1.65456433,  2.63719381, -1.76786459,  0.68772569,\n",
       "        0.18097681, -0.8522963 , -1.05551938,  0.37716068, -0.03554315,\n",
       "       -2.14188619, -1.20545282, -0.72059932, -1.10391328, -1.08276184,\n",
       "       -0.41998178,  1.40171885,  0.67404593,  1.45745158,  0.7078847 ,\n",
       "       -1.25836438, -0.86775145, -0.18585349, -1.04320711, -2.15365846,\n",
       "        0.61984812,  0.69815745, -1.31819749, -0.93535491, -0.11853161,\n",
       "        0.24327841, -0.12496394, -0.98169135, -1.20262515,  0.92582131,\n",
       "       -0.47917802, -0.59636941, -0.36124172, -1.19649334,  0.2388931 ,\n",
       "        1.19557957,  3.33624791, -1.24210358, -0.61957556, -0.40118936,\n",
       "       -0.2167034 , -0.37994353, -0.96321308,  0.58183197,  1.40502073,\n",
       "       -1.24519999,  0.12312372, -1.07732615, -0.57706101, -1.27984222,\n",
       "       -0.28601741,  1.81619471, -1.75435318, -0.35027448, -1.44009001,\n",
       "        0.58935202, -0.79124259, -0.38094472, -0.15742393, -0.50642414,\n",
       "        0.6740482 ,  0.00989787, -0.19090297,  0.75329345,  0.08588045,\n",
       "       -2.18866539, -0.51036968,  0.9288246 , -0.28182816, -1.82067332,\n",
       "        0.76394543,  0.17580916,  0.36559368,  0.25762658, -0.27171553,\n",
       "        0.79470359, -1.33574957,  0.24170385,  0.04520044,  0.63200828,\n",
       "        0.7258011 ,  1.38326837,  0.7344417 , -1.60143783,  1.21764797,\n",
       "       -0.62809352, -2.53467841, -0.21718175, -0.54748127, -1.03333898,\n",
       "       -0.15427969,  0.43672471,  1.27233402, -0.47590311, -0.6388549 ,\n",
       "       -0.36452256, -0.99065922,  0.67538198,  1.39875945,  0.76151841,\n",
       "        0.35279473, -0.74349799, -1.86461225,  0.76381951,  0.08739711,\n",
       "        0.97340836, -0.60289737, -0.42975964,  0.53039752, -0.18969209,\n",
       "        0.43909074, -1.29107206,  0.41825641,  0.26442465,  1.62764652,\n",
       "        0.09794562, -0.54805328, -2.22942973, -0.0119663 ,  1.77728628,\n",
       "       -1.16157525, -1.22044922, -0.23598691,  1.27158281, -0.19776165,\n",
       "       -0.5548877 ,  0.93076134,  0.49425088,  0.82482491, -0.08188026,\n",
       "       -0.20083365, -1.51015958, -0.67507865,  0.71857596, -1.5564888 ,\n",
       "        0.43886747,  0.65434014, -1.55093799,  0.10992197,  0.70802367])"
      ]
     },
     "execution_count": 13,
     "metadata": {},
     "output_type": "execute_result"
    }
   ],
   "source": [
    "x = np.random.standard_normal(1000) #\n",
    "x"
   ]
  },
  {
   "cell_type": "code",
   "execution_count": 14,
   "metadata": {
    "scrolled": true
   },
   "outputs": [
    {
     "data": {
      "image/png": "[encoded data removed]",
      "text/plain": [
       "<Figure size 432x288 with 1 Axes>"
      ]
     },
     "metadata": {
      "needs_background": "light"
     },
     "output_type": "display_data"
    }
   ],
   "source": [
    "plt.hist(x)\n",
    "plt.title('1000 random floats')\n",
    "plt.show()"
   ]
  },
  {
   "cell_type": "code",
   "execution_count": 15,
   "metadata": {
    "scrolled": true
   },
   "outputs": [
    {
     "data": {
      "text/plain": [
       "array([[[ 0.01187481, -1.0114676 ],\n",
       "        [ 0.49676668, -0.86317563],\n",
       "        [ 0.20652939, -0.67861658],\n",
       "        [-0.57436511,  1.25929764]],\n",
       "\n",
       "       [[ 0.59546663,  0.39624657],\n",
       "        [ 1.91081317, -0.57474739],\n",
       "        [-0.0644621 ,  1.8465534 ],\n",
       "        [ 1.12261671, -0.12952552]],\n",
       "\n",
       "       [[ 1.16268273,  1.16872819],\n",
       "        [ 0.11517266, -0.21261169],\n",
       "        [-0.66451829,  1.13081625],\n",
       "        [-1.68197344,  0.51153641]]])"
      ]
     },
     "execution_count": 15,
     "metadata": {},
     "output_type": "execute_result"
    }
   ],
   "source": [
    "s = np.random.standard_normal(size=(3, 4, 2))\n",
    "s"
   ]
  },
  {
   "cell_type": "markdown",
   "metadata": {},
   "source": [
    "## numpy.randint"
   ]
  },
  {
   "cell_type": "markdown",
   "metadata": {},
   "source": [
    "This function\n",
    "\n",
    "randint() takes at least 1 positional argument"
   ]
  },
  {
   "cell_type": "code",
   "execution_count": 16,
   "metadata": {
    "scrolled": true
   },
   "outputs": [
    {
     "data": {
      "text/plain": [
       "array([0, 0, 0, 0, 0, 0, 0, 0, 0, 0])"
      ]
     },
     "execution_count": 16,
     "metadata": {},
     "output_type": "execute_result"
    }
   ],
   "source": [
    "np.random.randint(0,2, size=10) # this will return a random array of 10 integers between 0 inclusive and 2 exclusive"
   ]
  },
  {
   "cell_type": "code",
   "execution_count": 17,
   "metadata": {
    "scrolled": true
   },
   "outputs": [
    {
     "data": {
      "text/plain": [
       "array([0, 0, 0, 1, 1, 0, 1, 0, 0, 1])"
      ]
     },
     "execution_count": 17,
     "metadata": {},
     "output_type": "execute_result"
    }
   ],
   "source": [
    "np.random.randint(2, size=10) \n",
    "# this will return another random array of 10 integers between 0 inclusive and 2 exclusive\n",
    "# you do not have to specify the 0 from "
   ]
  },
  {
   "cell_type": "code",
   "execution_count": 18,
   "metadata": {
    "scrolled": true
   },
   "outputs": [
    {
     "data": {
      "text/plain": [
       "array([0, 0, 0, 0, 0, 0, 0, 0, 0, 0])"
      ]
     },
     "execution_count": 18,
     "metadata": {},
     "output_type": "execute_result"
    }
   ],
   "source": [
    "np.random.randint(1, size=10) # just showing that it excludes the high number, in this case 1\n",
    "    "
   ]
  },
  {
   "cell_type": "code",
   "execution_count": 19,
   "metadata": {
    "scrolled": true
   },
   "outputs": [
    {
     "data": {
      "text/plain": [
       "array([ 4,  8, 16, 15,  8, 11, 17,  3, 18,  4])"
      ]
     },
     "execution_count": 19,
     "metadata": {},
     "output_type": "execute_result"
    }
   ],
   "source": [
    "np.random.randint(1,21, size=10) # random array of 10 numbers between 1 and 21 exclusive"
   ]
  },
  {
   "cell_type": "code",
   "execution_count": 20,
   "metadata": {
    "scrolled": true
   },
   "outputs": [
    {
     "data": {
      "text/plain": [
       "array([[ 2, 34, 50, 81, 67],\n",
       "       [94, 41, 78, 46, 81]])"
      ]
     },
     "execution_count": 20,
     "metadata": {},
     "output_type": "execute_result"
    }
   ],
   "source": [
    "np.random.randint(100, size=(2, 5)) # randomly picking 2 arrays of 5 numbers from a size of 100\n",
    "# Possible way of picking a control group and an experimental group"
   ]
  },
  {
   "cell_type": "markdown",
   "metadata": {},
   "source": [
    "### numpy.random.random_sample\n",
    "\n",
    "This command returns a sample of floats from a half open interval [0.0, 1.0)\n",
    "\n",
    "A half open interval means that it will return numbers between 0 and 1, including 0 and up to 1 but excluding 1.\n",
    "The sample will be in a continuous uniform."
   ]
  },
  {
   "cell_type": "code",
   "execution_count": 21,
   "metadata": {
    "scrolled": true
   },
   "outputs": [
    {
     "data": {
      "text/plain": [
       "float"
      ]
     },
     "execution_count": 21,
     "metadata": {},
     "output_type": "execute_result"
    }
   ],
   "source": [
    "type(np.random.random_sample())"
   ]
  },
  {
   "cell_type": "code",
   "execution_count": 22,
   "metadata": {
    "scrolled": true
   },
   "outputs": [
    {
     "data": {
      "text/plain": [
       "0.011343719867594748"
      ]
     },
     "execution_count": 22,
     "metadata": {},
     "output_type": "execute_result"
    }
   ],
   "source": [
    "np.random.random_sample()"
   ]
  },
  {
   "cell_type": "code",
   "execution_count": 23,
   "metadata": {
    "scrolled": true
   },
   "outputs": [
    {
     "data": {
      "text/plain": [
       "array([0.70941358, 0.18438823, 0.4804262 , 0.82652708, 0.84701261,\n",
       "       0.28105049, 0.05479535, 0.78144057, 0.95913243, 0.01636976,\n",
       "       0.47655552, 0.55167835, 0.40103225, 0.5625259 , 0.8297709 ,\n",
       "       0.90166905, 0.84489231, 0.40421676, 0.3990716 , 0.09005296,\n",
       "       0.34712061, 0.50362979, 0.71390084, 0.24266875, 0.39162423,\n",
       "       0.71830822, 0.07976201, 0.63089343, 0.54887407, 0.5991303 ,\n",
       "       0.0495759 , 0.39937313, 0.80942883, 0.04806035, 0.77840108,\n",
       "       0.85728115, 0.50225225, 0.14600034, 0.54668153, 0.81660962,\n",
       "       0.79780536, 0.4235116 , 0.77775887, 0.57135617, 0.89044204,\n",
       "       0.51668719, 0.53531881, 0.31114517, 0.84910237, 0.25443503,\n",
       "       0.09855289, 0.99371084, 0.61164314, 0.59408571, 0.48590771,\n",
       "       0.06768051, 0.82085973, 0.34576307, 0.09649958, 0.11385236,\n",
       "       0.40920417, 0.12129142, 0.45242047, 0.16635511, 0.33694155,\n",
       "       0.53795478, 0.61549257, 0.1814947 , 0.04523078, 0.42802316,\n",
       "       0.68194514, 0.91271014, 0.21639718, 0.64304629, 0.89382075,\n",
       "       0.53869016, 0.17784894, 0.68614396, 0.99506493, 0.90549363,\n",
       "       0.22483131, 0.68793763, 0.22847607, 0.08415773, 0.59977481,\n",
       "       0.90713314, 0.1110661 , 0.61140365, 0.49471846, 0.54747228,\n",
       "       0.41876495, 0.26650019, 0.66082275, 0.18728586, 0.08278226,\n",
       "       0.02644419, 0.14017481, 0.3180127 , 0.83704851, 0.73348665,\n",
       "       0.41714546, 0.2097036 , 0.97079716, 0.39207078, 0.87395197,\n",
       "       0.67800002, 0.82996497, 0.32029927, 0.17211075, 0.50534297,\n",
       "       0.25073562, 0.26210954, 0.40981595, 0.05371794, 0.56298108,\n",
       "       0.09456328, 0.36735963, 0.04213857, 0.71985767, 0.46777564,\n",
       "       0.67388368, 0.61886879, 0.86438467, 0.58636526, 0.62368457,\n",
       "       0.37656754, 0.1366741 , 0.95066769, 0.12541427, 0.97731135,\n",
       "       0.30771942, 0.5388273 , 0.60852588, 0.03221275, 0.08183614,\n",
       "       0.32789634, 0.26497225, 0.31298351, 0.68577438, 0.98492567,\n",
       "       0.9339427 , 0.80196271, 0.7261596 , 0.36498433, 0.8542573 ,\n",
       "       0.39199315, 0.90845788, 0.20284841, 0.43417566, 0.84408926,\n",
       "       0.45687167, 0.49068851, 0.68933778, 0.76718939, 0.40585144,\n",
       "       0.16296001, 0.33282796, 0.4252325 , 0.70154429, 0.98939347,\n",
       "       0.47742867, 0.27135503, 0.90282697, 0.50973784, 0.32244332,\n",
       "       0.60993879, 0.81483315, 0.10088189, 0.60769526, 0.43611149,\n",
       "       0.08473811, 0.66323808, 0.6223205 , 0.20136152, 0.1042858 ,\n",
       "       0.86720839, 0.43931766, 0.30973809, 0.93410436, 0.88932138,\n",
       "       0.54986181, 0.21653722, 0.85538367, 0.09858952, 0.50712521,\n",
       "       0.67928813, 0.57287293, 0.01149259, 0.51434999, 0.55990968,\n",
       "       0.08877686, 0.25354971, 0.32966441, 0.57705423, 0.20075299,\n",
       "       0.59144491, 0.13265272, 0.82789613, 0.58764176, 0.31763097,\n",
       "       0.32267656, 0.92804114, 0.43951807, 0.78875238, 0.42582792,\n",
       "       0.85857516, 0.80651998, 0.28923301, 0.74193326, 0.92456663,\n",
       "       0.44039352, 0.36931306, 0.14808356, 0.05499067, 0.48321554,\n",
       "       0.15841763, 0.29076722, 0.04620031, 0.06324968, 0.55344903,\n",
       "       0.64082411, 0.66561517, 0.26954335, 0.83666809, 0.54547068,\n",
       "       0.25647134, 0.72617325, 0.48099071, 0.64781211, 0.28248872,\n",
       "       0.06989862, 0.19583218, 0.27927941, 0.34934299, 0.30414948,\n",
       "       0.5286977 , 0.82106975, 0.08017678, 0.20137177, 0.04588426,\n",
       "       0.78522256, 0.53141338, 0.34980256, 0.58420718, 0.64597632,\n",
       "       0.92376377, 0.66398108, 0.56494212, 0.42252622, 0.73815303,\n",
       "       0.65301466, 0.67903201, 0.61913069, 0.18011754, 0.4481155 ,\n",
       "       0.47554559, 0.49818808, 0.07276136, 0.50389711, 0.77429486,\n",
       "       0.51074322, 0.41296448, 0.48203246, 0.10378093, 0.23629507,\n",
       "       0.02907266, 0.79942581, 0.59861794, 0.24710127, 0.50508988,\n",
       "       0.24806734, 0.86572393, 0.02590978, 0.21738172, 0.9509009 ,\n",
       "       0.84388592, 0.07968553, 0.47510898, 0.72425643, 0.31098628,\n",
       "       0.03045136, 0.49412356, 0.25936336, 0.53721169, 0.46997603,\n",
       "       0.40481209, 0.17605099, 0.70096352, 0.07974846, 0.8490573 ,\n",
       "       0.42986098, 0.97074538, 0.49537781, 0.59279082, 0.04706834,\n",
       "       0.06812503, 0.55995888, 0.43610757, 0.56276102, 0.13214153,\n",
       "       0.19273567, 0.68178204, 0.51707275, 0.36705183, 0.85979125,\n",
       "       0.94374939, 0.79961087, 0.09280147, 0.52895509, 0.64872483,\n",
       "       0.5869016 , 0.50113247, 0.39199091, 0.31782021, 0.27441624,\n",
       "       0.15557079, 0.52520481, 0.22700181, 0.36346191, 0.72738241,\n",
       "       0.57781719, 0.03580988, 0.84515478, 0.99940664, 0.41360961,\n",
       "       0.30276903, 0.71824145, 0.91557573, 0.66811316, 0.19828948,\n",
       "       0.2101175 , 0.019854  , 0.17964824, 0.90942462, 0.75389145,\n",
       "       0.3441577 , 0.1834512 , 0.9430515 , 0.86425104, 0.38842815,\n",
       "       0.81028768, 0.75999138, 0.91512123, 0.1478374 , 0.71189976,\n",
       "       0.050574  , 0.26789386, 0.52391568, 0.561466  , 0.97518797,\n",
       "       0.15679744, 0.7337665 , 0.32365724, 0.84992637, 0.81873212,\n",
       "       0.16772243, 0.98039857, 0.28576019, 0.87798077, 0.61499299,\n",
       "       0.57960028, 0.3242439 , 0.43493745, 0.10797952, 0.65445493,\n",
       "       0.01524744, 0.29642089, 0.6696002 , 0.9786924 , 0.7614203 ,\n",
       "       0.50539592, 0.98530317, 0.11815089, 0.21049054, 0.50297687,\n",
       "       0.93218039, 0.38465063, 0.8820146 , 0.79794648, 0.78310824,\n",
       "       0.27364826, 0.25211579, 0.27200416, 0.87354033, 0.57357356,\n",
       "       0.3609112 , 0.92713439, 0.33761233, 0.21205161, 0.31562151,\n",
       "       0.18698084, 0.25746328, 0.17912942, 0.63508032, 0.05968023,\n",
       "       0.50448924, 0.88060666, 0.75750785, 0.10748728, 0.75531888,\n",
       "       0.9981452 , 0.5450396 , 0.08712248, 0.1436062 , 0.9743673 ,\n",
       "       0.0115697 , 0.80083174, 0.3089276 , 0.76790392, 0.48656552,\n",
       "       0.43433054, 0.72628728, 0.6245525 , 0.67890637, 0.29602488,\n",
       "       0.48266389, 0.56765174, 0.64042038, 0.38310287, 0.32177625,\n",
       "       0.78662758, 0.10735961, 0.74965075, 0.21495049, 0.66611712,\n",
       "       0.47031636, 0.14692293, 0.74364752, 0.68152429, 0.21555475,\n",
       "       0.6052049 , 0.02915876, 0.81976701, 0.20430618, 0.57519761,\n",
       "       0.20652702, 0.45111556, 0.8990997 , 0.47426199, 0.72839979,\n",
       "       0.18982028, 0.40317549, 0.12330039, 0.49505351, 0.48860446,\n",
       "       0.27299817, 0.39200678, 0.6817457 , 0.19421135, 0.40297432,\n",
       "       0.4449302 , 0.93308689, 0.5894063 , 0.36450698, 0.76818536,\n",
       "       0.89917198, 0.94752716, 0.1526638 , 0.2370764 , 0.33440109,\n",
       "       0.6229002 , 0.50021366, 0.67539512, 0.03669077, 0.12569507,\n",
       "       0.23344642, 0.65988793, 0.8088145 , 0.95459287, 0.18388754,\n",
       "       0.91108915, 0.09680328, 0.38057988, 0.41416966, 0.39197315,\n",
       "       0.95232099, 0.50626308, 0.09665629, 0.56386138, 0.19406113,\n",
       "       0.38352742, 0.95000496, 0.91363669, 0.20742477, 0.18490528,\n",
       "       0.79587355, 0.57212758, 0.45183836, 0.41838056, 0.45369147,\n",
       "       0.79084459, 0.16200994, 0.7281051 , 0.96342493, 0.88276086,\n",
       "       0.70717616, 0.52831461, 0.8043851 , 0.59976308, 0.94880067])"
      ]
     },
     "execution_count": 23,
     "metadata": {},
     "output_type": "execute_result"
    }
   ],
   "source": [
    "x = np.random.random_sample((500))\n",
    "x"
   ]
  },
  {
   "cell_type": "code",
   "execution_count": 24,
   "metadata": {
    "scrolled": true
   },
   "outputs": [
    {
     "data": {
      "image/png": "[encoded data removed]",
      "text/plain": [
       "<Figure size 432x288 with 1 Axes>"
      ]
     },
     "metadata": {
      "needs_background": "light"
     },
     "output_type": "display_data"
    }
   ],
   "source": [
    "plt.hist(x)\n",
    "plt.show()"
   ]
  },
  {
   "cell_type": "code",
   "execution_count": 25,
   "metadata": {
    "scrolled": false
   },
   "outputs": [
    {
     "data": {
      "text/plain": [
       "array([[-0.24349448, -0.28198276, -4.26109504, -2.50404577, -3.55101021,\n",
       "        -3.0427381 , -4.25678351, -2.11539321, -2.4736471 , -0.44502889],\n",
       "       [-3.08836728, -2.53496123, -0.67504028, -1.53870497, -4.38314951,\n",
       "        -4.33741113, -1.73715136, -3.00106872, -2.69793634, -3.08676787],\n",
       "       [-2.25747856, -4.75444718, -1.62673733, -2.18084181, -2.39908465,\n",
       "        -0.40490416, -4.92536976, -1.02306098, -1.52972979, -0.48954898]])"
      ]
     },
     "execution_count": 25,
     "metadata": {},
     "output_type": "execute_result"
    }
   ],
   "source": [
    "x = 5 * np.random.random_sample((3, 10)) - 5 # you can change the shape and range\n",
    "x                                            # 3 arrays of 10 floats in the range between -5 and 0"
   ]
  },
  {
   "cell_type": "markdown",
   "metadata": {},
   "source": [
    "## Permutations"
   ]
  },
  {
   "cell_type": "markdown",
   "metadata": {},
   "source": [
    "### Shuffle\n",
    "Below we have 2 arrays.  Firslty we are arrange the numbers 0 to 20 in order from 0 to 20.  We then use this array to use the shuffle function to randomly shuffle the array to return the same array shuffled.\n",
    "\n",
    "Multi-dimensional arrays are only shuffled along the first axis.  The numbers within the arrays do not shuffle the entire array shuffles along and switches places with another array."
   ]
  },
  {
   "cell_type": "code",
   "execution_count": 26,
   "metadata": {
    "scrolled": true
   },
   "outputs": [
    {
     "data": {
      "text/plain": [
       "array([ 0,  1,  2,  3,  4,  5,  6,  7,  8,  9, 10, 11, 12, 13, 14, 15, 16,\n",
       "       17, 18, 19, 20])"
      ]
     },
     "execution_count": 26,
     "metadata": {},
     "output_type": "execute_result"
    }
   ],
   "source": [
    "arr = np.arange(21)\n",
    "arr"
   ]
  },
  {
   "cell_type": "code",
   "execution_count": 27,
   "metadata": {
    "scrolled": true
   },
   "outputs": [
    {
     "data": {
      "text/plain": [
       "array([17, 11,  6,  0,  7, 18, 10,  3, 14,  4, 13,  2,  9, 12,  8,  5, 15,\n",
       "        1, 16, 20, 19])"
      ]
     },
     "execution_count": 27,
     "metadata": {},
     "output_type": "execute_result"
    }
   ],
   "source": [
    "np.random.shuffle(arr)\n",
    "arr"
   ]
  },
  {
   "cell_type": "code",
   "execution_count": 28,
   "metadata": {
    "scrolled": true
   },
   "outputs": [
    {
     "data": {
      "text/plain": [
       "array([[ 0,  1,  2,  3],\n",
       "       [ 4,  5,  6,  7],\n",
       "       [ 8,  9, 10, 11]])"
      ]
     },
     "execution_count": 28,
     "metadata": {},
     "output_type": "execute_result"
    }
   ],
   "source": [
    "arr = np.arange(12).reshape((3, 4))\n",
    "arr"
   ]
  },
  {
   "cell_type": "code",
   "execution_count": 29,
   "metadata": {
    "scrolled": true
   },
   "outputs": [
    {
     "data": {
      "text/plain": [
       "array([[ 4,  5,  6,  7],\n",
       "       [ 0,  1,  2,  3],\n",
       "       [ 8,  9, 10, 11]])"
      ]
     },
     "execution_count": 29,
     "metadata": {},
     "output_type": "execute_result"
    }
   ],
   "source": [
    "np.random.shuffle(arr)\n",
    "arr"
   ]
  },
  {
   "cell_type": "markdown",
   "metadata": {},
   "source": [
    "### Permutation\n",
    "Below there are 3 ways of using this permutation function.  "
   ]
  },
  {
   "cell_type": "markdown",
   "metadata": {},
   "source": [
    "Firstly we ask numpy to give us back the numbers 0 to 9 (10 numbers) in a random order/permutation."
   ]
  },
  {
   "cell_type": "code",
   "execution_count": 30,
   "metadata": {
    "scrolled": true
   },
   "outputs": [
    {
     "data": {
      "text/plain": [
       "array([6, 8, 0, 9, 7, 1, 2, 3, 4, 5])"
      ]
     },
     "execution_count": 30,
     "metadata": {},
     "output_type": "execute_result"
    }
   ],
   "source": [
    "np.random.permutation(10)"
   ]
  },
  {
   "cell_type": "markdown",
   "metadata": {},
   "source": [
    "Secondly we feed an array of numbers into the permutation function and it gives these numbers back in a random order."
   ]
  },
  {
   "cell_type": "code",
   "execution_count": 31,
   "metadata": {
    "scrolled": true
   },
   "outputs": [
    {
     "data": {
      "text/plain": [
       "array([ 1, 12,  9,  4, 15])"
      ]
     },
     "execution_count": 31,
     "metadata": {},
     "output_type": "execute_result"
    }
   ],
   "source": [
    "np.random.permutation([1, 4, 9, 12, 15])"
   ]
  },
  {
   "cell_type": "markdown",
   "metadata": {},
   "source": [
    "Thirdly we can reshape the output to have multidimensions."
   ]
  },
  {
   "cell_type": "code",
   "execution_count": 32,
   "metadata": {
    "scrolled": true
   },
   "outputs": [
    {
     "data": {
      "text/plain": [
       "array([[0, 1, 2],\n",
       "       [3, 4, 5],\n",
       "       [6, 7, 8]])"
      ]
     },
     "execution_count": 32,
     "metadata": {},
     "output_type": "execute_result"
    }
   ],
   "source": [
    "arr = np.arange(9).reshape((3, 3))\n",
    "np.random.permutation(arr)"
   ]
  },
  {
   "cell_type": "markdown",
   "metadata": {},
   "source": [
    "## Distributions\n",
    "\n",
    "There are many distributions available.  I will look at 5 of these and show how they work and what they are used for."
   ]
  },
  {
   "cell_type": "markdown",
   "metadata": {},
   "source": [
    "### Normal Distribution\n",
    "Probably the most common and well known distribution.  \n",
    "The curve is known as a bell curve as it's shape is somewhat like a bell. \n",
    "This curve shape means that there are fewer points on the outer edges and that the points are mainly around the centre.  It is possibly the best known distribution as it is the one that ocurs most often in everyday life. From heights of a give population to blood pressure and lots in between. There will tend to be many people around the average and less on either side of this.  For height there will be many at the average or close to it and less very short or very tall people.  Same with the blood pressure example there will be many at the average and fewer with low blood pressure or high blood pressure."
   ]
  },
  {
   "cell_type": "code",
   "execution_count": 33,
   "metadata": {
    "scrolled": true
   },
   "outputs": [
    {
     "name": "stderr",
     "output_type": "stream",
     "text": [
      "C:\\ProgramData\\Anaconda3\\lib\\site-packages\\scipy\\stats\\stats.py:1713: FutureWarning: Using a non-tuple sequence for multidimensional indexing is deprecated; use `arr[tuple(seq)]` instead of `arr[seq]`. In the future this will be interpreted as an array index, `arr[np.array(seq)]`, which will result either in an error or a different result.\n",
      "  return np.add.reduce(sorted[indexer] * weights, axis=axis) / sumval\n"
     ]
    },
    {
     "data": {
      "image/png": "[encoded data removed]",
      "text/plain": [
       "<Figure size 432x288 with 1 Axes>"
      ]
     },
     "metadata": {},
     "output_type": "display_data"
    }
   ],
   "source": [
    "x = np.random.normal(size=1000) # Unless you put in different values the mean will be 0 and the std dev will be 1\n",
    "sns.set()\n",
    "sns.distplot(x)\n",
    "plt.show()\n"
   ]
  },
  {
   "cell_type": "code",
   "execution_count": 34,
   "metadata": {
    "scrolled": true
   },
   "outputs": [
    {
     "name": "stderr",
     "output_type": "stream",
     "text": [
      "C:\\ProgramData\\Anaconda3\\lib\\site-packages\\scipy\\stats\\stats.py:1713: FutureWarning: Using a non-tuple sequence for multidimensional indexing is deprecated; use `arr[tuple(seq)]` instead of `arr[seq]`. In the future this will be interpreted as an array index, `arr[np.array(seq)]`, which will result either in an error or a different result.\n",
      "  return np.add.reduce(sorted[indexer] * weights, axis=axis) / sumval\n"
     ]
    },
    {
     "data": {
      "image/png": "[encoded data removed]",
      "text/plain": [
       "<Figure size 432x288 with 1 Axes>"
      ]
     },
     "metadata": {},
     "output_type": "display_data"
    }
   ],
   "source": [
    "k = np.random.normal(100, 1, 1000) # showing the mean at 100 and a std dev of 1\n",
    "l = np.random.normal(100, .5, 1000) # showing the mean at 100 and a std dev of .5\n",
    "m = np.random.normal(100, .25, 1000) # showing the mean at 100 and a std dev of .25\n",
    "sns.set()\n",
    "sns.distplot(k)\n",
    "sns.distplot(l)\n",
    "sns.distplot(m)\n",
    "\n",
    "plt.title('Normal Distribution')\n",
    "\n",
    "plt.show()"
   ]
  },
  {
   "cell_type": "markdown",
   "metadata": {},
   "source": [
    "\n",
    "\n"
   ]
  },
  {
   "cell_type": "code",
   "execution_count": 35,
   "metadata": {
    "scrolled": true
   },
   "outputs": [
    {
     "name": "stdout",
     "output_type": "stream",
     "text": [
      "[70.5 68.5 65.5 64.5 64.  67.5 67.5 67.5 66.5 66.5 66.5 64.5 70.5 69.5\n",
      " 68.5 68.5 68.5 68.5 68.5 68.5 68.5 67.5 67.5 67.5 67.5 67.5 66.5 66.5\n",
      " 66.5 65.5 65.5 65.5 65.5 65.5 65.5 65.5 65.5 65.5 64.5 64.5 64.5 64.5\n",
      " 64.  64.  69.5 69.5 69.5 69.5 69.5 69.5 69.5 69.5 69.5 69.5 69.5 69.5\n",
      " 69.5 69.5 69.5 69.5 68.5 68.5 68.5 68.5 68.5 68.5 68.5 68.5 68.5 68.5\n",
      " 68.5 67.5 67.5 67.5 67.5 67.5 67.5 67.5 67.5 67.5 67.5 67.5 67.5 67.5\n",
      " 67.5 66.5 66.5 66.5 66.5 66.5 65.5 65.5 65.5 65.5 65.5 64.5 64.5 64.5\n",
      " 64.5 64.  64.  64.  64.  71.5 70.5 69.5 69.5 69.5 69.5 68.5 68.5 68.5\n",
      " 68.5 68.5 68.5 68.5 68.5 68.5 68.5 68.5 68.5 68.5 68.5 68.5 68.5 67.5\n",
      " 67.5 67.5 67.5 67.5 67.5 67.5 67.5 67.5 67.5 67.5 67.5 67.5 67.5 67.5\n",
      " 66.5 66.5 65.5 65.5 65.5 65.5 65.5 65.5 65.5 64.5 64.  71.5 71.5 71.5\n",
      " 70.5 69.5 69.5 69.5 69.5 69.5 69.5 69.5 69.5 69.5 69.5 69.5 69.5 69.5\n",
      " 69.5 69.5 69.5 69.5 68.5 68.5 68.5 68.5 68.5 68.5 68.5 68.5 68.5 68.5\n",
      " 68.5 68.5 68.5 68.5 68.5 68.5 68.5 68.5 68.5 68.5 68.5 68.5 68.5 68.5\n",
      " 68.5 67.5 67.5 67.5 67.5 67.5 67.5 67.5 67.5 67.5 67.5 67.5 67.5 67.5\n",
      " 67.5 67.5 67.5 67.5 67.5 67.5 67.5 67.5 67.5 67.5 67.5 67.5 67.5 67.5\n",
      " 67.5 67.5 67.5 67.5 67.5 67.5 67.5 67.5 67.5 66.5 66.5 66.5 66.5 66.5\n",
      " 66.5 66.5 66.5 66.5 66.5 66.5 66.5 66.5 66.5 66.5 66.5 66.5 65.5 65.5\n",
      " 65.5 65.5 65.5 65.5 65.5 65.5 65.5 65.5 65.5 64.5 64.5 64.5 64.5 64.5\n",
      " 64.  64.  71.5 71.5 71.5 71.5 70.5 70.5 70.5 69.5 69.5 69.5 69.5 69.5\n",
      " 69.5 69.5 69.5 69.5 69.5 69.5 69.5 69.5 69.5 69.5 69.5 69.5 69.5 69.5\n",
      " 69.5 69.5 69.5 69.5 69.5 69.5 69.5 69.5 68.5 68.5 68.5 68.5 68.5 68.5\n",
      " 68.5 68.5 68.5 68.5 68.5 68.5 68.5 68.5 68.5 68.5 68.5 68.5 68.5 68.5\n",
      " 68.5 68.5 68.5 68.5 68.5 68.5 68.5 68.5 68.5 68.5 68.5 67.5 67.5 67.5\n",
      " 67.5 67.5 67.5 67.5 67.5 67.5 67.5 67.5 67.5 67.5 67.5 67.5 67.5 67.5\n",
      " 67.5 67.5 67.5 67.5 67.5 67.5 67.5 67.5 67.5 67.5 67.5 67.5 67.5 67.5\n",
      " 67.5 67.5 67.5 67.5 67.5 67.5 67.5 66.5 66.5 66.5 66.5 66.5 66.5 66.5\n",
      " 66.5 66.5 66.5 66.5 66.5 66.5 66.5 66.5 66.5 66.5 65.5 65.5 65.5 65.5\n",
      " 65.5 65.5 65.5 65.5 65.5 65.5 65.5 64.5 64.5 64.5 64.5 64.5 64.  64.\n",
      " 72.5 71.5 71.5 71.5 70.5 70.5 70.5 70.5 70.5 70.5 70.5 70.5 70.5 70.5\n",
      " 70.5 70.5 69.5 69.5 69.5 69.5 69.5 69.5 69.5 69.5 69.5 69.5 69.5 69.5\n",
      " 69.5 69.5 69.5 69.5 69.5 69.5 69.5 69.5 68.5 68.5 68.5 68.5 68.5 68.5\n",
      " 68.5 68.5 68.5 68.5 68.5 68.5 68.5 68.5 68.5 68.5 68.5 68.5 68.5 68.5\n",
      " 68.5 68.5 68.5 68.5 68.5 68.5 68.5 68.5 68.5 68.5 68.5 68.5 68.5 68.5\n",
      " 67.5 67.5 67.5 67.5 67.5 67.5 67.5 67.5 67.5 67.5 67.5 67.5 67.5 67.5\n",
      " 67.5 67.5 67.5 67.5 67.5 67.5 67.5 67.5 67.5 67.5 67.5 67.5 67.5 67.5\n",
      " 66.5 66.5 66.5 66.5 66.5 66.5 66.5 66.5 66.5 66.5 66.5 66.5 66.5 66.5\n",
      " 65.5 65.5 65.5 65.5 65.5 65.5 65.5 64.  72.5 72.5 71.5 71.5 71.5 71.5\n",
      " 71.5 70.5 70.5 70.5 70.5 70.5 70.5 70.5 70.5 70.5 70.5 70.5 70.5 70.5\n",
      " 70.5 70.5 70.5 70.5 70.5 69.5 69.5 69.5 69.5 69.5 69.5 69.5 69.5 69.5\n",
      " 69.5 69.5 69.5 69.5 69.5 69.5 69.5 69.5 69.5 69.5 69.5 69.5 69.5 69.5\n",
      " 69.5 69.5 69.5 69.5 69.5 69.5 69.5 69.5 69.5 69.5 68.5 68.5 68.5 68.5\n",
      " 68.5 68.5 68.5 68.5 68.5 68.5 68.5 68.5 68.5 68.5 68.5 68.5 68.5 68.5\n",
      " 68.5 68.5 68.5 68.5 68.5 68.5 68.5 68.5 68.5 68.5 68.5 68.5 68.5 68.5\n",
      " 68.5 68.5 68.5 68.5 68.5 68.5 68.5 68.5 68.5 68.5 68.5 68.5 68.5 68.5\n",
      " 68.5 68.5 67.5 67.5 67.5 67.5 67.5 67.5 67.5 67.5 67.5 67.5 67.5 67.5\n",
      " 67.5 67.5 67.5 67.5 67.5 67.5 67.5 67.5 67.5 67.5 67.5 67.5 67.5 67.5\n",
      " 67.5 67.5 67.5 67.5 67.5 67.5 67.5 67.5 67.5 67.5 67.5 67.5 66.5 66.5\n",
      " 66.5 66.5 66.5 66.5 66.5 66.5 66.5 66.5 66.5 66.5 66.5 65.5 65.5 65.5\n",
      " 65.5 65.5 65.5 65.5 64.5 64.5 64.  72.5 71.5 71.5 71.5 71.5 71.5 71.5\n",
      " 71.5 71.5 71.5 71.5 70.5 70.5 70.5 70.5 70.5 70.5 70.5 70.5 70.5 70.5\n",
      " 70.5 70.5 70.5 70.5 69.5 69.5 69.5 69.5 69.5 69.5 69.5 69.5 69.5 69.5\n",
      " 69.5 69.5 69.5 69.5 69.5 69.5 69.5 69.5 69.5 69.5 69.5 69.5 69.5 69.5\n",
      " 69.5 68.5 68.5 68.5 68.5 68.5 68.5 68.5 68.5 68.5 68.5 68.5 68.5 68.5\n",
      " 68.5 68.5 68.5 68.5 68.5 68.5 68.5 68.5 67.5 67.5 67.5 67.5 67.5 67.5\n",
      " 67.5 67.5 67.5 67.5 67.5 67.5 67.5 67.5 67.5 67.5 67.5 67.5 67.5 66.5\n",
      " 66.5 66.5 66.5 65.5 65.5 65.5 65.5 65.5 72.5 72.5 71.5 71.5 71.5 71.5\n",
      " 70.5 70.5 70.5 70.5 70.5 70.5 70.5 69.5 69.5 69.5 69.5 69.5 69.5 69.5\n",
      " 69.5 69.5 69.5 69.5 69.5 69.5 69.5 69.5 69.5 69.5 69.5 69.5 69.5 68.5\n",
      " 68.5 68.5 68.5 68.5 68.5 68.5 68.5 68.5 68.5 68.5 68.5 68.5 68.5 68.5\n",
      " 68.5 68.5 68.5 67.5 67.5 67.5 67.5 67.5 67.5 67.5 67.5 67.5 67.5 67.5\n",
      " 65.5 65.5 73.  72.5 72.5 72.5 72.5 72.5 72.5 72.5 71.5 71.5 71.5 71.5\n",
      " 71.5 71.5 71.5 71.5 71.5 70.5 70.5 70.5 70.5 69.5 69.5 69.5 69.5 69.5\n",
      " 69.5 69.5 69.5 69.5 69.5 69.5 68.5 68.5 68.5 68.5 67.5 67.5 67.5 67.5\n",
      " 65.5 73.  73.  73.  72.5 72.5 71.5 71.5 70.5 70.5 70.5 69.5 69.5 69.5\n",
      " 69.5 68.5 68.5 68.5 72.5 72.5 72.5 72.5 71.5 71.5 70.5 70.5 70.5 69.5\n",
      " 69.5 69.5 69.5 69.5]\n"
     ]
    }
   ],
   "source": [
    "data = np.genfromtxt(\"GaltonHeightList.csv\", skip_header=0) # csv heights file from git hub\n",
    "\n",
    "print(data)"
   ]
  },
  {
   "cell_type": "code",
   "execution_count": 36,
   "metadata": {
    "scrolled": true
   },
   "outputs": [
    {
     "data": {
      "text/plain": [
       "1.1751545091826705"
      ]
     },
     "execution_count": 36,
     "metadata": {},
     "output_type": "execute_result"
    }
   ],
   "source": [
    "np.random.normal(loc=0.0, scale=1.0, size=None)"
   ]
  },
  {
   "cell_type": "code",
   "execution_count": 37,
   "metadata": {
    "scrolled": true
   },
   "outputs": [
    {
     "data": {
      "image/png": "[encoded data removed]",
      "text/plain": [
       "<Figure size 432x288 with 1 Axes>"
      ]
     },
     "metadata": {},
     "output_type": "display_data"
    }
   ],
   "source": [
    "fit = stats.norm.pdf(data, np.mean(data), np.std(data))  \n",
    "plt.plot(data, fit, 'o')\n",
    "plt.show()"
   ]
  },
  {
   "cell_type": "code",
   "execution_count": 38,
   "metadata": {
    "scrolled": true
   },
   "outputs": [
    {
     "name": "stderr",
     "output_type": "stream",
     "text": [
      "C:\\ProgramData\\Anaconda3\\lib\\site-packages\\scipy\\stats\\stats.py:1713: FutureWarning: Using a non-tuple sequence for multidimensional indexing is deprecated; use `arr[tuple(seq)]` instead of `arr[seq]`. In the future this will be interpreted as an array index, `arr[np.array(seq)]`, which will result either in an error or a different result.\n",
      "  return np.add.reduce(sorted[indexer] * weights, axis=axis) / sumval\n"
     ]
    },
    {
     "data": {
      "text/plain": [
       "<matplotlib.axes._subplots.AxesSubplot at 0x1b71dce0be0>"
      ]
     },
     "execution_count": 38,
     "metadata": {},
     "output_type": "execute_result"
    },
    {
     "data": {
      "image/png": "[encoded data removed]",
      "text/plain": [
       "<Figure size 432x288 with 1 Axes>"
      ]
     },
     "metadata": {},
     "output_type": "display_data"
    }
   ],
   "source": [
    "import seaborn as sns\n",
    "df = pd.read_csv(\"GaltonHeightList.csv\", header=None)\n",
    "sns.set()\n",
    "sns.distplot(df)"
   ]
  },
  {
   "cell_type": "markdown",
   "metadata": {},
   "source": [
    "### Log Normal Distribution\n",
    "\n"
   ]
  },
  {
   "cell_type": "markdown",
   "metadata": {},
   "source": [
    "log-normal (or lognormal) distribution is a continuous probability distribution of a random variable whose logarithm is normally distributed."
   ]
  },
  {
   "cell_type": "code",
   "execution_count": 39,
   "metadata": {},
   "outputs": [
    {
     "data": {
      "image/png": "[encoded data removed]",
      "text/plain": [
       "<Figure size 432x288 with 1 Axes>"
      ]
     },
     "metadata": {},
     "output_type": "display_data"
    }
   ],
   "source": [
    "mu, sigma = 3., 1. # mean and standard deviation\n",
    "s = np.random.lognormal(mu, sigma, 1000)\n",
    "    \n",
    "# Display the histogram of the samples, along with the probability density function:\n",
    "\n",
    "count, bins, ignored = plt.hist(s, 100, density=True, align='mid')\n",
    "    \n",
    "x = np.linspace(min(bins), max(bins), 10000)\n",
    "pdf = (np.exp(-(np.log(x) - mu)**2 / (2 * sigma**2))/ (x * sigma * np.sqrt(2 * np.pi)))\n",
    "    \n",
    "plt.plot(x, pdf, linewidth=2, color='r')\n",
    "plt.axis('tight')\n",
    "plt.show()"
   ]
  },
  {
   "cell_type": "markdown",
   "metadata": {},
   "source": [
    "Demonstrate that taking the products of random samples from a uniform distribution can be fit well by a log-normal probability density function."
   ]
  },
  {
   "cell_type": "code",
   "execution_count": 40,
   "metadata": {},
   "outputs": [
    {
     "data": {
      "image/png": "[encoded data removed]",
      "text/plain": [
       "<Figure size 432x288 with 1 Axes>"
      ]
     },
     "metadata": {},
     "output_type": "display_data"
    }
   ],
   "source": [
    "# Generate a thousand samples: each is the product of 100 random\n",
    "# values, drawn from a normal distribution.\n",
    "b = []\n",
    "for i in range(1000):\n",
    "    a = 10. + np.random.random(100)\n",
    "    b.append(np.product(a))\n",
    "    \n",
    "b = np.array(b) / np.min(b) # scale values to be positive\n",
    "count, bins, ignored = plt.hist(b, 100, density=True, align='mid')\n",
    "sigma = np.std(np.log(b))\n",
    "mu = np.mean(np.log(b))\n",
    "    \n",
    "x = np.linspace(min(bins), max(bins), 10000)\n",
    "pdf = (np.exp(-(np.log(x) - mu)**2 / (2 * sigma**2))/ (x * sigma * np.sqrt(2 * np.pi)))\n",
    "    \n",
    "plt.plot(x, pdf, color='r', linewidth=2)\n",
    "plt.show()"
   ]
  },
  {
   "cell_type": "markdown",
   "metadata": {},
   "source": [
    "### Binomial Distribution\n",
    "\n"
   ]
  },
  {
   "cell_type": "markdown",
   "metadata": {
    "scrolled": false
   },
   "source": [
    "The Binomial Distribution is a probability distribution of a yes no question.  \n",
    "\n",
    "It could be the flip of a coin, heads or tails, it could be a sample population of people are they left handed or right handed.\n",
    "It could be a real world example of a drilling company saying will this drilled well have oil, yes or no.\n",
    "\n"
   ]
  },
  {
   "cell_type": "code",
   "execution_count": 41,
   "metadata": {
    "scrolled": true
   },
   "outputs": [
    {
     "name": "stderr",
     "output_type": "stream",
     "text": [
      "C:\\ProgramData\\Anaconda3\\lib\\site-packages\\scipy\\stats\\stats.py:1713: FutureWarning: Using a non-tuple sequence for multidimensional indexing is deprecated; use `arr[tuple(seq)]` instead of `arr[seq]`. In the future this will be interpreted as an array index, `arr[np.array(seq)]`, which will result either in an error or a different result.\n",
      "  return np.add.reduce(sorted[indexer] * weights, axis=axis) / sumval\n"
     ]
    },
    {
     "data": {
      "text/plain": [
       "<matplotlib.axes._subplots.AxesSubplot at 0x1b71df5cb38>"
      ]
     },
     "execution_count": 41,
     "metadata": {},
     "output_type": "execute_result"
    },
    {
     "data": {
      "image/png": "[encoded data removed]",
      "text/plain": [
       "<Figure size 432x288 with 1 Axes>"
      ]
     },
     "metadata": {},
     "output_type": "display_data"
    }
   ],
   "source": [
    "n, p = 10, .5  # number of trials, probability of each trial\n",
    "s = np.random.binomial(10, .5, 1000)\n",
    "# result of flipping a coin 10 times, tested 1000 times.\n",
    "sns.set(style=\"darkgrid\")\n",
    "sns.distplot(s, hist=True, rug=True)"
   ]
  },
  {
   "cell_type": "code",
   "execution_count": null,
   "metadata": {
    "scrolled": true
   },
   "outputs": [],
   "source": []
  },
  {
   "cell_type": "code",
   "execution_count": 42,
   "metadata": {
    "scrolled": true
   },
   "outputs": [
    {
     "data": {
      "text/plain": [
       "(array([  1.,  10.,  47., 120., 193., 244., 197., 132.,  46.,  10.]),\n",
       " array([ 0.,  1.,  2.,  3.,  4.,  5.,  6.,  7.,  8.,  9., 10.]),\n",
       " <a list of 10 Patch objects>)"
      ]
     },
     "execution_count": 42,
     "metadata": {},
     "output_type": "execute_result"
    },
    {
     "data": {
      "image/png": "[encoded data removed]",
      "text/plain": [
       "<Figure size 432x288 with 1 Axes>"
      ]
     },
     "metadata": {},
     "output_type": "display_data"
    }
   ],
   "source": [
    "n, p = 10, .5  # number of trials, probability of each trial\n",
    "s = np.random.binomial(n, p, 1000)\n",
    "# result of flipping a coin 10 times, tested 1000 times.\n",
    "s\n",
    "sns.set()\n",
    "plt.hist(s)\n"
   ]
  },
  {
   "cell_type": "code",
   "execution_count": 43,
   "metadata": {
    "scrolled": true
   },
   "outputs": [
    {
     "name": "stderr",
     "output_type": "stream",
     "text": [
      "C:\\ProgramData\\Anaconda3\\lib\\site-packages\\scipy\\stats\\stats.py:1713: FutureWarning: Using a non-tuple sequence for multidimensional indexing is deprecated; use `arr[tuple(seq)]` instead of `arr[seq]`. In the future this will be interpreted as an array index, `arr[np.array(seq)]`, which will result either in an error or a different result.\n",
      "  return np.add.reduce(sorted[indexer] * weights, axis=axis) / sumval\n"
     ]
    },
    {
     "data": {
      "text/plain": [
       "<matplotlib.axes._subplots.AxesSubplot at 0x1b71de292e8>"
      ]
     },
     "execution_count": 43,
     "metadata": {},
     "output_type": "execute_result"
    },
    {
     "data": {
      "image/png": "[encoded data removed]",
      "text/plain": [
       "<Figure size 432x288 with 1 Axes>"
      ]
     },
     "metadata": {},
     "output_type": "display_data"
    }
   ],
   "source": [
    "sns.set()\n",
    "sns.distplot(s)"
   ]
  },
  {
   "cell_type": "code",
   "execution_count": 44,
   "metadata": {
    "scrolled": true
   },
   "outputs": [
    {
     "data": {
      "text/plain": [
       "[<matplotlib.lines.Line2D at 0x1b71c8e6518>]"
      ]
     },
     "execution_count": 44,
     "metadata": {},
     "output_type": "execute_result"
    },
    {
     "data": {
      "image/png": "[encoded data removed]",
      "text/plain": [
       "<Figure size 432x288 with 1 Axes>"
      ]
     },
     "metadata": {},
     "output_type": "display_data"
    }
   ],
   "source": [
    "import scipy, scipy.stats\n",
    "x = scipy.linspace(0,10,11)\n",
    "pmf = scipy.stats.binom.pmf(x,10,0.5)\n",
    "import pylab\n",
    "pylab.plot(x,pmf)"
   ]
  },
  {
   "cell_type": "markdown",
   "metadata": {},
   "source": [
    "### Pareto Distribution\n"
   ]
  },
  {
   "cell_type": "markdown",
   "metadata": {},
   "source": [
    "![Vilfredo Pareto](VilfredoPareto.jpg)"
   ]
  },
  {
   "cell_type": "markdown",
   "metadata": {},
   "source": [
    "This distribution is named after Italian economist Vilfredo Pareto. The Pareto principle was named after him, and it was built on observations of his such as that 80% of the land in Italy was owned by about 20% of the population.\n",
    "\n",
    "He was also the first to discover that income follows a Pareto distribution, which is a power law probability distribution. \n",
    "\n",
    "I find the Pareto Distribution very interesting.\n",
    "From when I started working I had an incling that there was a huge gulf between the amount of work some people were doing compared to others.  I was right but what shocked me was how much work was being done by so few when the Pareto distribution is applied.\n",
    "\n",
    "You can see this principle in its starkest with the worlds wealth.  The fact that over 80% of the worlds wealth is held by 1% of the world population.\n",
    "\n",
    "As a rule of thumb if you take a population size and see who is doing the work or creating the most use the 80 - 20 rule.\n",
    "\n",
    "It is a slowly decaying graph, most of the population is in the long tail, ie skewed."
   ]
  },
  {
   "cell_type": "code",
   "execution_count": 45,
   "metadata": {
    "scrolled": true
   },
   "outputs": [
    {
     "data": {
      "image/png": "[encoded data removed]",
      "text/plain": [
       "<Figure size 432x288 with 1 Axes>"
      ]
     },
     "metadata": {},
     "output_type": "display_data"
    }
   ],
   "source": [
    "a, m = 3., 2.  # shape and mode\n",
    "s = (np.random.pareto(a, 1000) + 1) * m\n",
    "\n",
    "import matplotlib.pyplot as plt\n",
    "sns.set()\n",
    "count, bins, _ = plt.hist(s, 100, density=True)\n",
    "fit = a*m**a / bins**(a+1)\n",
    "plt.plot(bins, max(count)*fit/max(fit), linewidth=2, color='r')\n",
    "plt.show()"
   ]
  },
  {
   "cell_type": "markdown",
   "metadata": {},
   "source": [
    "You can see from the above graph how much blue you can see towards the right.  Between 5 and 10 you can see a few bins but after that you can only see the line"
   ]
  },
  {
   "cell_type": "markdown",
   "metadata": {},
   "source": [
    "### Uniform Distribution\n"
   ]
  },
  {
   "cell_type": "markdown",
   "metadata": {},
   "source": [
    "The unifrom distribution is one where all numbers within the population have the same probability of being selected.  This distributuion is not centred around the mean.\n",
    "Obviously because it is random it will not be comletely unifrom but there is a unifromity as can be seen below by the box shape of the plot."
   ]
  },
  {
   "cell_type": "code",
   "execution_count": 46,
   "metadata": {
    "scrolled": true
   },
   "outputs": [
    {
     "data": {
      "image/png": "[encoded data removed]",
      "text/plain": [
       "<Figure size 432x288 with 1 Axes>"
      ]
     },
     "metadata": {},
     "output_type": "display_data"
    }
   ],
   "source": [
    "s = np.random.uniform(-1,0,1000)\n",
    "    \n",
    "np.all(s >= -1)\n",
    "np.all(s < 0)\n",
    "import matplotlib.pyplot as plt\n",
    "count, bins, ignored = plt.hist(s, 15, density=True)\n",
    "plt.plot(bins, np.ones_like(bins), linewidth=2, color='r')\n",
    "plt.show()"
   ]
  },
  {
   "cell_type": "code",
   "execution_count": 47,
   "metadata": {
    "scrolled": true
   },
   "outputs": [
    {
     "data": {
      "image/png": "[encoded data removed]",
      "text/plain": [
       "<Figure size 432x288 with 1 Axes>"
      ]
     },
     "metadata": {},
     "output_type": "display_data"
    }
   ],
   "source": [
    "s = np.random.uniform(0,1,1000) # You can change the range, here the random numbers will be from 0 to 1 excluding 1\n",
    "np.all(s >= -0)\n",
    "np.all(s < 1)\n",
    "import matplotlib.pyplot as plt\n",
    "sns.set\n",
    "count, bins, ignored = plt.hist(s, 15, density=True)\n",
    "plt.plot(bins, np.ones_like(bins), linewidth=2, color='r')\n",
    "plt.show()"
   ]
  },
  {
   "cell_type": "code",
   "execution_count": 48,
   "metadata": {
    "scrolled": true
   },
   "outputs": [
    {
     "data": {
      "text/plain": [
       "0.5082779383353455"
      ]
     },
     "execution_count": 48,
     "metadata": {},
     "output_type": "execute_result"
    }
   ],
   "source": [
    "np.mean(s)"
   ]
  },
  {
   "cell_type": "code",
   "execution_count": 49,
   "metadata": {
    "scrolled": true
   },
   "outputs": [
    {
     "data": {
      "text/plain": [
       "<function matplotlib.pyplot.show(*args, **kw)>"
      ]
     },
     "execution_count": 49,
     "metadata": {},
     "output_type": "execute_result"
    },
    {
     "data": {
      "image/png": "[encoded data removed]",
      "text/plain": [
       "<Figure size 432x288 with 1 Axes>"
      ]
     },
     "metadata": {},
     "output_type": "display_data"
    }
   ],
   "source": [
    "import numpy as np\n",
    "mu, sigma = 0, 0.1 # mean and standard deviation\n",
    "s = np.random.normal(mu, sigma, 1000) \n",
    "%matplotlib inline\n",
    "import matplotlib.pyplot as plt\n",
    "sns.set()\n",
    "count, bins, ignored = plt.hist(s, 20, density=True)\n",
    "# Display the mean and the standard deviation of the data\n",
    "plt.plot(bins, 1/(sigma * np.sqrt(2 * np.pi)) *\n",
    "np.exp( - (bins - mu)**2 / (2 * sigma**2) ),\n",
    "linewidth=2, color='r')\n",
    "plt.show"
   ]
  },
  {
   "cell_type": "markdown",
   "metadata": {},
   "source": [
    "## Random Number Generator"
   ]
  },
  {
   "cell_type": "markdown",
   "metadata": {},
   "source": [
    "### Random State"
   ]
  },
  {
   "cell_type": "markdown",
   "metadata": {},
   "source": [
    "When I used the following command help funcion help(np.random.RandomState) I found that the entire Numpy.random package is run through this generator.  The help brings up all topics of the random package and tell us that the package is using the marsenne twister pseudo random number generator.  This gives a long period but it is a sequence nontheless and cannot be used in crypotography unless it is modified.  If you could look at the sequence long enough you could tell what the next number would be."
   ]
  },
  {
   "cell_type": "markdown",
   "metadata": {},
   "source": [
    "### Seed"
   ]
  },
  {
   "cell_type": "markdown",
   "metadata": {},
   "source": [
    "We see above how numpy.random generates a random number.  Now suppose we want to run a test or scientific experiment or engineering .  We would not want to have different result values each time.  There is a way to generate the same random results each time.  We do this by feeding the seed in the generator.  We see above that the seed is a part of the Marsenne Twister sequence.  If we feed in where we start in that sequence it will start at that point each time we run it, thus returning the same values each time."
   ]
  },
  {
   "cell_type": "code",
   "execution_count": 50,
   "metadata": {
    "scrolled": true
   },
   "outputs": [
    {
     "data": {
      "text/plain": [
       "array([ 2, 12,  7,  7, 15,  5,  2,  9,  2,  5])"
      ]
     },
     "execution_count": 50,
     "metadata": {},
     "output_type": "execute_result"
    }
   ],
   "source": [
    "np.random.randint(1,21, size=10) # we saw above how this function works and it gives 10 random numbers picked from 1-21"
   ]
  },
  {
   "cell_type": "code",
   "execution_count": 51,
   "metadata": {
    "scrolled": true
   },
   "outputs": [
    {
     "data": {
      "text/plain": [
       "array([ 6, 12, 13,  9, 10, 12,  6, 16,  1, 17])"
      ]
     },
     "execution_count": 51,
     "metadata": {},
     "output_type": "execute_result"
    }
   ],
   "source": [
    "np.random.seed(1) # now we will see the same function controlled ie it will give the same 10 numbers out each time\n",
    "np.random.randint(1,21, size=10)"
   ]
  },
  {
   "cell_type": "code",
   "execution_count": 52,
   "metadata": {
    "scrolled": true
   },
   "outputs": [
    {
     "data": {
      "text/plain": [
       "array([ 6, 12, 13,  9, 10, 12,  6, 16,  1, 17])"
      ]
     },
     "execution_count": 52,
     "metadata": {},
     "output_type": "execute_result"
    }
   ],
   "source": [
    "np.random.seed(1) # when we set the seed to 1 it will give us out the same set of numbers again and again\n",
    "np.random.randint(1,21, size=10)"
   ]
  },
  {
   "cell_type": "code",
   "execution_count": 53,
   "metadata": {
    "scrolled": true
   },
   "outputs": [
    {
     "data": {
      "text/plain": [
       "array([48, 84, 39, 54, 77])"
      ]
     },
     "execution_count": 53,
     "metadata": {},
     "output_type": "execute_result"
    }
   ],
   "source": [
    "np.random.seed(1234) # you can change the seed\n",
    "np.random.randint(1,100, size=5)"
   ]
  },
  {
   "cell_type": "code",
   "execution_count": 54,
   "metadata": {
    "scrolled": true
   },
   "outputs": [
    {
     "data": {
      "text/plain": [
       "array([48, 84, 39, 54, 77])"
      ]
     },
     "execution_count": 54,
     "metadata": {},
     "output_type": "execute_result"
    }
   ],
   "source": [
    "np.random.seed(1234) # it returns the same 5 numbers\n",
    "np.random.randint(1,100, size=5)"
   ]
  },
  {
   "cell_type": "markdown",
   "metadata": {},
   "source": [
    "### References\n",
    "\n",
    "https://docs.scipy.org/doc/numpy/reference/routines.random.html\n",
    "\n",
    "https://en.wikipedia.org/wiki/Pareto_distribution\n",
    "\n",
    "https://en.wikipedia.org/wiki/Mersenne_Twister\n",
    "\n",
    "http://www.homepages.ed.ac.uk/slig/papers/tian_AHS09.pdf\n",
    "\n",
    "https://en.wikipedia.org/wiki/Log-normal_distribution\n",
    "\n"
   ]
  }
 ],
 "metadata": {
  "kernelspec": {
   "display_name": "Python 3",
   "language": "python",
   "name": "python3"
  },
  "language_info": {
   "codemirror_mode": {
    "name": "ipython",
    "version": 3
   },
   "file_extension": ".py",
   "mimetype": "text/x-python",
   "name": "python",
   "nbconvert_exporter": "python",
   "pygments_lexer": "ipython3",
   "version": "3.7.0"
  }
 },
 "nbformat": 4,
 "nbformat_minor": 2
}
