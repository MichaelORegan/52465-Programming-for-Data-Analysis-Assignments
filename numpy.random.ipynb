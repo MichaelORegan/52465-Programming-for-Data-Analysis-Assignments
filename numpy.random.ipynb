{
 "cells": [
  {
   "cell_type": "markdown",
   "metadata": {},
   "source": [
    "# numpy.random package"
   ]
  },
  {
   "cell_type": "markdown",
   "metadata": {
    "collapsed": true
   },
   "source": [
    "The numpy.random package is a powerful tool in scientific equations in mathematical modelling, in business and many more disciplines use it.  It is robust and fast and will deliver results.\n",
    "\n",
    "Numpy.random will return random values, however many you require in an array.  Or in however many dimensions as you need.\n",
    "\n"
   ]
  },
  {
   "cell_type": "code",
   "execution_count": 1,
   "metadata": {
    "scrolled": true
   },
   "outputs": [],
   "source": [
    "import numpy as np # importing numpy as np\n",
    "import pandas as pd # importing pandas as pd\n",
    "import seaborn as sns # importing seaborn as sns\n",
    "import matplotlib.pyplot as plt # importing matplotlib .pyplot as plt\n",
    "from scipy import stats # importing stats from scipy"
   ]
  },
  {
   "cell_type": "markdown",
   "metadata": {},
   "source": [
    "## Simple Random Sampling"
   ]
  },
  {
   "cell_type": "markdown",
   "metadata": {},
   "source": [
    "### Numpy.random.randn\n",
    "\n",
    "The numpy.random.randn command will return a sample with a mean of 0, and a standard deviation of 1, from a standard normal distribution.  \n"
   ]
  },
  {
   "cell_type": "code",
   "execution_count": 2,
   "metadata": {
    "scrolled": true
   },
   "outputs": [
    {
     "data": {
      "text/plain": [
       "float"
      ]
     },
     "execution_count": 2,
     "metadata": {},
     "output_type": "execute_result"
    }
   ],
   "source": [
    "type(np.random.randn()) # the type of number returned is a float"
   ]
  },
  {
   "cell_type": "code",
   "execution_count": 3,
   "metadata": {
    "scrolled": true
   },
   "outputs": [
    {
     "data": {
      "text/plain": [
       "0.8682785246573185"
      ]
     },
     "execution_count": 3,
     "metadata": {},
     "output_type": "execute_result"
    }
   ],
   "source": [
    "np.random.randn() # if you do not enter a size it will return a single float"
   ]
  },
  {
   "cell_type": "code",
   "execution_count": 4,
   "metadata": {
    "scrolled": true
   },
   "outputs": [],
   "source": [
    "x = np.random.randn(1000) # random sample of 1000 numbers\n",
    "# x taking out the printout of data as it is too long, toggle did not transfer to git hub"
   ]
  },
  {
   "cell_type": "code",
   "execution_count": 5,
   "metadata": {
    "scrolled": false
   },
   "outputs": [
    {
     "data": {
      "image/png": "[encoded data removed]",
      "text/plain": [
       "<Figure size 432x288 with 1 Axes>"
      ]
     },
     "metadata": {
      "needs_background": "light"
     },
     "output_type": "display_data"
    }
   ],
   "source": [
    "plt.hist(x)\n",
    "plt.title('1000 random floats')\n",
    "plt.show()"
   ]
  },
  {
   "cell_type": "code",
   "execution_count": 6,
   "metadata": {
    "scrolled": true
   },
   "outputs": [
    {
     "data": {
      "text/plain": [
       "array([[-1.18383918,  1.31512819, -0.27237179, -0.9829468 , -0.15826796],\n",
       "       [-0.01378483,  0.68391451,  0.10016852,  1.75961442,  1.03188854]])"
      ]
     },
     "execution_count": 6,
     "metadata": {},
     "output_type": "execute_result"
    }
   ],
   "source": [
    "x = np.random.randn(2, 5) # random array 2 dimensions of 5 floats\n",
    "x"
   ]
  },
  {
   "cell_type": "code",
   "execution_count": 7,
   "metadata": {
    "scrolled": true
   },
   "outputs": [
    {
     "data": {
      "text/plain": [
       "array([[[ 0.320654  , -0.7768571 , -0.82717656],\n",
       "        [ 1.92550796,  0.8716286 ,  0.67308586],\n",
       "        [-0.361257  ,  1.22010551,  0.73225452]],\n",
       "\n",
       "       [[ 0.88436483, -0.65599083,  0.39337889],\n",
       "        [-1.62592921, -1.27646176,  1.9053748 ],\n",
       "        [ 0.90525077,  0.10703161, -0.14651552]],\n",
       "\n",
       "       [[ 1.13546593, -0.87114854, -0.24248918],\n",
       "        [ 1.22105161, -1.46017962, -0.19855984],\n",
       "        [-0.13542962,  1.66570245,  0.00451087]]])"
      ]
     },
     "execution_count": 7,
     "metadata": {},
     "output_type": "execute_result"
    }
   ],
   "source": [
    "x = np.random.randn(3, 3, 3) # 3 random arrays of 3 dimensions of 3 floats\n",
    "x"
   ]
  },
  {
   "cell_type": "code",
   "execution_count": 8,
   "metadata": {
    "scrolled": true
   },
   "outputs": [
    {
     "data": {
      "text/plain": [
       "array([[[ 1.89489647, -0.88246988,  1.60524262],\n",
       "        [ 0.890796  ,  0.4759569 ,  0.27983594],\n",
       "        [ 0.01108545, -1.08304632, -0.80561965],\n",
       "        [ 0.02610063, -0.10755479, -0.15359298]],\n",
       "\n",
       "       [[-0.35683282, -0.10313425, -1.59868247],\n",
       "        [ 1.28518873,  0.11097593,  1.31900071],\n",
       "        [-0.52406376, -0.15096501, -0.47338221],\n",
       "        [ 0.06143418, -1.02549618,  0.84440633]]])"
      ]
     },
     "execution_count": 8,
     "metadata": {},
     "output_type": "execute_result"
    }
   ],
   "source": [
    "x = np.random.randn(2, 4, 3) # 2 arrays of 4 arrays of 3 random floats\n",
    "x"
   ]
  },
  {
   "cell_type": "code",
   "execution_count": 9,
   "metadata": {
    "scrolled": true
   },
   "outputs": [
    {
     "data": {
      "text/plain": [
       "array([[[[ 1.38532804, -1.55642802, -0.09386058, -0.07551866,\n",
       "          -0.26789408],\n",
       "         [-0.41750922,  1.0523344 , -0.17089201, -1.08242675,\n",
       "           1.22681343],\n",
       "         [ 0.83149904, -2.13661137,  0.52132998, -0.81959457,\n",
       "          -0.10478514]],\n",
       "\n",
       "        [[-0.87984409,  0.07167121, -1.48667148, -0.99150837,\n",
       "          -0.87548232],\n",
       "         [ 0.37186522,  0.99790922,  0.1100519 ,  0.73158618,\n",
       "          -0.21061674],\n",
       "         [ 0.60902274,  0.93426032,  1.38543586,  0.42565132,\n",
       "          -0.6606543 ]],\n",
       "\n",
       "        [[-0.61983312, -0.49684741, -0.75800351, -0.25305044,\n",
       "           0.09995664],\n",
       "         [-0.21776474,  1.00621689,  0.3024116 , -0.0635187 ,\n",
       "          -0.67978497],\n",
       "         [ 0.59050435,  0.24525955,  0.386782  ,  0.24448585,\n",
       "           0.93633867]],\n",
       "\n",
       "        [[ 0.40171472,  0.57440538,  1.48173859, -0.71241273,\n",
       "          -0.02733351],\n",
       "         [ 0.17832784, -1.42094201,  0.50082979,  0.68735039,\n",
       "           0.7476202 ],\n",
       "         [ 0.10486851, -0.12660359,  0.65992338,  0.06052941,\n",
       "           1.12894292]]],\n",
       "\n",
       "\n",
       "       [[[ 0.63888871, -1.54375198, -1.0477333 ,  0.94456071,\n",
       "           1.04606235],\n",
       "         [-1.92509284, -0.33539112,  0.98784561, -0.45763636,\n",
       "           0.80863353],\n",
       "         [-0.21656039,  1.16691996,  0.28327814,  0.69724954,\n",
       "          -0.2861134 ]],\n",
       "\n",
       "        [[-0.74264533, -0.39337932, -1.66859837, -1.9221571 ,\n",
       "          -0.87508251],\n",
       "         [-0.11503437,  0.42691192,  2.1326794 ,  1.05023596,\n",
       "           0.69255385],\n",
       "         [ 0.47151255, -0.75768598, -1.73655577,  0.35100349,\n",
       "          -2.00360571]],\n",
       "\n",
       "        [[-0.98330073, -0.21716169,  0.45572572, -0.20747923,\n",
       "          -0.9136296 ],\n",
       "         [ 0.58888757,  1.20227848,  1.00736975,  0.83622983,\n",
       "          -0.26461121],\n",
       "         [ 0.54807205, -0.38443674, -0.1254738 ,  0.56904956,\n",
       "          -0.49147552]],\n",
       "\n",
       "        [[ 0.96003691,  0.76056346, -0.30060466,  0.35393282,\n",
       "           0.57158053],\n",
       "         [-0.94382112, -0.71424441, -0.36816172, -1.15884236,\n",
       "          -0.78612385],\n",
       "         [-0.16474931, -0.44061519, -1.30329778, -1.54225154,\n",
       "          -2.12557762]]],\n",
       "\n",
       "\n",
       "       [[[ 2.02796992, -0.39821955,  2.66677125, -1.10199893,\n",
       "           1.55186344],\n",
       "         [ 0.62502094, -1.18406052,  0.0275465 , -1.51725467,\n",
       "          -0.33464464],\n",
       "         [ 0.43741834, -2.69167422,  1.27811959,  0.16776204,\n",
       "           0.34914947]],\n",
       "\n",
       "        [[ 1.24548177, -1.43712588, -0.28258861, -0.50094774,\n",
       "           1.03248396],\n",
       "         [-0.51468988,  0.20267202, -0.184457  ,  0.07635254,\n",
       "           0.27433762],\n",
       "         [ 0.10689829, -0.49051647, -0.20247489,  0.74946354,\n",
       "           1.18814879]],\n",
       "\n",
       "        [[-0.63859706, -0.89937599, -0.17277982,  1.55151008,\n",
       "          -0.35508745],\n",
       "         [-0.04738218,  0.63347704, -2.09276235,  0.37192464,\n",
       "          -0.37322774],\n",
       "         [-0.75993757,  0.30584162, -0.79410693,  0.17647484,\n",
       "          -1.4504313 ]],\n",
       "\n",
       "        [[-0.59800992, -0.30258663, -0.0300575 ,  0.97891739,\n",
       "           1.23545069],\n",
       "         [ 1.388425  , -1.19878822, -0.40611673,  0.13800501,\n",
       "          -0.45933498],\n",
       "         [ 0.75722413, -0.82446494, -0.2632169 , -0.46218318,\n",
       "           0.11603822]]]])"
      ]
     },
     "execution_count": 9,
     "metadata": {},
     "output_type": "execute_result"
    }
   ],
   "source": [
    "x = np.random.randn(3,4,3,5) # 3 sets of 4 arrays holding  3 arrays of 5 random floats\n",
    "x\n",
    "# it can get very complicated"
   ]
  },
  {
   "cell_type": "markdown",
   "metadata": {},
   "source": [
    "### Numpy.random.standard_normal\n",
    "\n"
   ]
  },
  {
   "cell_type": "markdown",
   "metadata": {},
   "source": [
    "This function \n",
    "standard_normal() takes at most 1 positional argument"
   ]
  },
  {
   "cell_type": "code",
   "execution_count": 10,
   "metadata": {
    "scrolled": true
   },
   "outputs": [
    {
     "data": {
      "text/plain": [
       "float"
      ]
     },
     "execution_count": 10,
     "metadata": {},
     "output_type": "execute_result"
    }
   ],
   "source": [
    "type(np.random.standard_normal()) # the type of number returned is a float"
   ]
  },
  {
   "cell_type": "code",
   "execution_count": 11,
   "metadata": {
    "scrolled": true
   },
   "outputs": [
    {
     "data": {
      "text/plain": [
       "0.25398748032529955"
      ]
     },
     "execution_count": 11,
     "metadata": {},
     "output_type": "execute_result"
    }
   ],
   "source": [
    "np.random.standard_normal() # if you do not enter a size it will return a single float"
   ]
  },
  {
   "cell_type": "code",
   "execution_count": 12,
   "metadata": {
    "scrolled": true
   },
   "outputs": [
    {
     "data": {
      "text/plain": [
       "-1.4758120652332707"
      ]
     },
     "execution_count": 12,
     "metadata": {},
     "output_type": "execute_result"
    }
   ],
   "source": [
    "np.random.standard_normal()"
   ]
  },
  {
   "cell_type": "code",
   "execution_count": 13,
   "metadata": {
    "scrolled": true
   },
   "outputs": [],
   "source": [
    "x = np.random.standard_normal(1000) #\n",
    "# x taking out the printout of data as it is too long, toggle did not transfer to git hub"
   ]
  },
  {
   "cell_type": "code",
   "execution_count": 14,
   "metadata": {
    "scrolled": true
   },
   "outputs": [
    {
     "data": {
      "image/png": "[encoded data removed]",
      "text/plain": [
       "<Figure size 432x288 with 1 Axes>"
      ]
     },
     "metadata": {
      "needs_background": "light"
     },
     "output_type": "display_data"
    }
   ],
   "source": [
    "plt.hist(x)\n",
    "plt.title('1000 random floats')\n",
    "plt.show()"
   ]
  },
  {
   "cell_type": "code",
   "execution_count": 15,
   "metadata": {
    "scrolled": true
   },
   "outputs": [
    {
     "data": {
      "text/plain": [
       "array([[[-0.35532962, -2.06446712],\n",
       "        [ 0.22467988, -0.98821766],\n",
       "        [-0.3995817 , -1.66129156],\n",
       "        [ 1.26606163,  1.46240056]],\n",
       "\n",
       "       [[ 1.44594809, -2.09468464],\n",
       "        [-0.7654481 , -1.87667142],\n",
       "        [ 1.19349258,  1.17903323],\n",
       "        [ 0.39986623, -0.74841097]],\n",
       "\n",
       "       [[-0.07164748,  0.88070712],\n",
       "        [-0.0964582 , -0.74451058],\n",
       "        [-0.57438099,  0.16991553],\n",
       "        [-1.93546655,  1.51575924]]])"
      ]
     },
     "execution_count": 15,
     "metadata": {},
     "output_type": "execute_result"
    }
   ],
   "source": [
    "s = np.random.standard_normal(size=(3, 4, 2))\n",
    "s"
   ]
  },
  {
   "cell_type": "markdown",
   "metadata": {},
   "source": [
    "## numpy.randint"
   ]
  },
  {
   "cell_type": "markdown",
   "metadata": {},
   "source": [
    "This function\n",
    "\n",
    "randint() takes at least 1 positional argument"
   ]
  },
  {
   "cell_type": "code",
   "execution_count": 16,
   "metadata": {
    "scrolled": true
   },
   "outputs": [
    {
     "data": {
      "text/plain": [
       "array([1, 0, 1, 0, 0, 0, 1, 0, 0, 0])"
      ]
     },
     "execution_count": 16,
     "metadata": {},
     "output_type": "execute_result"
    }
   ],
   "source": [
    "np.random.randint(0,2, size=10) # this will return a random array of 10 integers between 0 inclusive and 2 exclusive"
   ]
  },
  {
   "cell_type": "code",
   "execution_count": 17,
   "metadata": {
    "scrolled": true
   },
   "outputs": [
    {
     "data": {
      "text/plain": [
       "array([0, 0, 1, 1, 1, 1, 0, 0, 1, 0])"
      ]
     },
     "execution_count": 17,
     "metadata": {},
     "output_type": "execute_result"
    }
   ],
   "source": [
    "np.random.randint(2, size=10) \n",
    "# this will return another random array of 10 integers between 0 inclusive and 2 exclusive\n",
    "# you do not have to specify the 0 from "
   ]
  },
  {
   "cell_type": "code",
   "execution_count": 18,
   "metadata": {
    "scrolled": true
   },
   "outputs": [
    {
     "data": {
      "text/plain": [
       "array([0, 0, 0, 0, 0, 0, 0, 0, 0, 0])"
      ]
     },
     "execution_count": 18,
     "metadata": {},
     "output_type": "execute_result"
    }
   ],
   "source": [
    "np.random.randint(1, size=10) # just showing that it excludes the high number, in this case 1\n",
    "    "
   ]
  },
  {
   "cell_type": "code",
   "execution_count": 19,
   "metadata": {
    "scrolled": true
   },
   "outputs": [
    {
     "data": {
      "text/plain": [
       "array([19, 20, 12, 20,  8,  6,  5,  4,  7, 16])"
      ]
     },
     "execution_count": 19,
     "metadata": {},
     "output_type": "execute_result"
    }
   ],
   "source": [
    "np.random.randint(1,21, size=10) # random array of 10 numbers between 1 and 21 exclusive"
   ]
  },
  {
   "cell_type": "code",
   "execution_count": 20,
   "metadata": {
    "scrolled": true
   },
   "outputs": [
    {
     "data": {
      "text/plain": [
       "array([[71, 79, 61, 86, 83],\n",
       "       [14, 82, 61, 62, 30]])"
      ]
     },
     "execution_count": 20,
     "metadata": {},
     "output_type": "execute_result"
    }
   ],
   "source": [
    "np.random.randint(100, size=(2, 5)) # randomly picking 2 arrays of 5 numbers from a size of 100\n",
    "# Possible way of picking a control group and an experimental group"
   ]
  },
  {
   "cell_type": "markdown",
   "metadata": {},
   "source": [
    "### numpy.random.random_sample\n",
    "\n",
    "This command returns a sample of floats from a half open interval [0.0, 1.0)\n",
    "\n",
    "A half open interval means that it will return numbers between 0 and 1, including 0 and up to 1 but excluding 1.\n",
    "The sample will be in a continuous uniform."
   ]
  },
  {
   "cell_type": "code",
   "execution_count": 21,
   "metadata": {
    "scrolled": true
   },
   "outputs": [
    {
     "data": {
      "text/plain": [
       "float"
      ]
     },
     "execution_count": 21,
     "metadata": {},
     "output_type": "execute_result"
    }
   ],
   "source": [
    "type(np.random.random_sample())"
   ]
  },
  {
   "cell_type": "code",
   "execution_count": 22,
   "metadata": {
    "scrolled": true
   },
   "outputs": [
    {
     "data": {
      "text/plain": [
       "0.35948386864424076"
      ]
     },
     "execution_count": 22,
     "metadata": {},
     "output_type": "execute_result"
    }
   ],
   "source": [
    "np.random.random_sample()"
   ]
  },
  {
   "cell_type": "code",
   "execution_count": 23,
   "metadata": {
    "scrolled": true
   },
   "outputs": [],
   "source": [
    "x = np.random.random_sample((500))\n",
    "# x taking out the printout of data as it is too long, toggle did not transfer to git hub"
   ]
  },
  {
   "cell_type": "code",
   "execution_count": 24,
   "metadata": {
    "scrolled": true
   },
   "outputs": [
    {
     "data": {
      "image/png": "[encoded data removed]",
      "text/plain": [
       "<Figure size 432x288 with 1 Axes>"
      ]
     },
     "metadata": {
      "needs_background": "light"
     },
     "output_type": "display_data"
    }
   ],
   "source": [
    "plt.hist(x)\n",
    "plt.show()"
   ]
  },
  {
   "cell_type": "code",
   "execution_count": 25,
   "metadata": {
    "scrolled": false
   },
   "outputs": [
    {
     "data": {
      "text/plain": [
       "array([[-4.14791459, -2.76182366, -3.83637351, -4.29731455, -3.34064708,\n",
       "        -2.18169888, -4.21637047, -2.58069898, -0.53332185, -3.12867368],\n",
       "       [-2.01925762, -4.06636701, -1.5070798 , -4.72949778, -1.28843148,\n",
       "        -0.45921904, -2.87867055, -0.92960091, -4.76881977, -0.71752014],\n",
       "       [-2.81069616, -2.26672122, -0.13586752, -2.03759491, -4.10990892,\n",
       "        -3.06787888, -1.92517291, -0.76627063, -4.64875801, -0.37221757]])"
      ]
     },
     "execution_count": 25,
     "metadata": {},
     "output_type": "execute_result"
    }
   ],
   "source": [
    "x = 5 * np.random.random_sample((3, 10)) - 5 # you can change the shape and range\n",
    "x                                            # 3 arrays of 10 floats in the range between -5 and 0"
   ]
  },
  {
   "cell_type": "markdown",
   "metadata": {},
   "source": [
    "## Permutations"
   ]
  },
  {
   "cell_type": "markdown",
   "metadata": {},
   "source": [
    "### Shuffle\n",
    "Below we have 2 arrays.  Firslty we are arrange the numbers 0 to 20 in order from 0 to 20.  We then use this array to use the shuffle function to randomly shuffle the array to return the same array shuffled.\n",
    "\n",
    "Multi-dimensional arrays are only shuffled along the first axis.  The numbers within the arrays do not shuffle the entire array shuffles along and switches places with another array."
   ]
  },
  {
   "cell_type": "code",
   "execution_count": 26,
   "metadata": {
    "scrolled": true
   },
   "outputs": [
    {
     "data": {
      "text/plain": [
       "array([ 0,  1,  2,  3,  4,  5,  6,  7,  8,  9, 10, 11, 12, 13, 14, 15, 16,\n",
       "       17, 18, 19, 20])"
      ]
     },
     "execution_count": 26,
     "metadata": {},
     "output_type": "execute_result"
    }
   ],
   "source": [
    "arr = np.arange(21)\n",
    "arr"
   ]
  },
  {
   "cell_type": "code",
   "execution_count": 27,
   "metadata": {
    "scrolled": true
   },
   "outputs": [
    {
     "data": {
      "text/plain": [
       "array([12,  1,  5, 15,  6,  3,  0, 10, 16,  4,  8, 11,  9, 14, 20,  7, 17,\n",
       "        2, 19, 13, 18])"
      ]
     },
     "execution_count": 27,
     "metadata": {},
     "output_type": "execute_result"
    }
   ],
   "source": [
    "np.random.shuffle(arr)\n",
    "arr"
   ]
  },
  {
   "cell_type": "code",
   "execution_count": 28,
   "metadata": {
    "scrolled": true
   },
   "outputs": [
    {
     "data": {
      "text/plain": [
       "array([[ 0,  1,  2,  3],\n",
       "       [ 4,  5,  6,  7],\n",
       "       [ 8,  9, 10, 11]])"
      ]
     },
     "execution_count": 28,
     "metadata": {},
     "output_type": "execute_result"
    }
   ],
   "source": [
    "arr = np.arange(12).reshape((3, 4))\n",
    "arr"
   ]
  },
  {
   "cell_type": "code",
   "execution_count": 29,
   "metadata": {
    "scrolled": true
   },
   "outputs": [
    {
     "data": {
      "text/plain": [
       "array([[ 0,  1,  2,  3],\n",
       "       [ 8,  9, 10, 11],\n",
       "       [ 4,  5,  6,  7]])"
      ]
     },
     "execution_count": 29,
     "metadata": {},
     "output_type": "execute_result"
    }
   ],
   "source": [
    "np.random.shuffle(arr)\n",
    "arr"
   ]
  },
  {
   "cell_type": "markdown",
   "metadata": {},
   "source": [
    "### Permutation\n",
    "Below there are 3 ways of using this permutation function.  "
   ]
  },
  {
   "cell_type": "markdown",
   "metadata": {},
   "source": [
    "Firstly we ask numpy to give us back the numbers 0 to 9 (10 numbers) in a random order/permutation."
   ]
  },
  {
   "cell_type": "code",
   "execution_count": 30,
   "metadata": {
    "scrolled": true
   },
   "outputs": [
    {
     "data": {
      "text/plain": [
       "array([6, 9, 4, 2, 1, 7, 0, 5, 8, 3])"
      ]
     },
     "execution_count": 30,
     "metadata": {},
     "output_type": "execute_result"
    }
   ],
   "source": [
    "np.random.permutation(10)"
   ]
  },
  {
   "cell_type": "markdown",
   "metadata": {},
   "source": [
    "Secondly we feed an array of numbers into the permutation function and it gives these numbers back in a random order."
   ]
  },
  {
   "cell_type": "code",
   "execution_count": 31,
   "metadata": {
    "scrolled": true
   },
   "outputs": [
    {
     "data": {
      "text/plain": [
       "array([ 4, 15,  1,  9, 12])"
      ]
     },
     "execution_count": 31,
     "metadata": {},
     "output_type": "execute_result"
    }
   ],
   "source": [
    "np.random.permutation([1, 4, 9, 12, 15])"
   ]
  },
  {
   "cell_type": "markdown",
   "metadata": {},
   "source": [
    "Thirdly we can reshape the output to have multidimensions."
   ]
  },
  {
   "cell_type": "code",
   "execution_count": 32,
   "metadata": {
    "scrolled": true
   },
   "outputs": [
    {
     "data": {
      "text/plain": [
       "array([[0, 1, 2],\n",
       "       [3, 4, 5],\n",
       "       [6, 7, 8]])"
      ]
     },
     "execution_count": 32,
     "metadata": {},
     "output_type": "execute_result"
    }
   ],
   "source": [
    "arr = np.arange(9).reshape((3, 3))\n",
    "np.random.permutation(arr)"
   ]
  },
  {
   "cell_type": "markdown",
   "metadata": {},
   "source": [
    "## Distributions\n",
    "\n",
    "There are many distributions available.  I will look at 5 of these and show how they work and what they are used for."
   ]
  },
  {
   "cell_type": "markdown",
   "metadata": {},
   "source": [
    "### Normal Distribution\n",
    "Probably the most common and well known distribution.  \n",
    "The curve is known as a bell curve as it's shape is somewhat like a bell. \n",
    "This curve shape means that there are fewer points on the outer edges and that the points are mainly around the centre.  It is possibly the best known distribution as it is the one that ocurs most often in everyday life. From heights of a give population to blood pressure and lots in between. There will tend to be many people around the average and less on either side of this.  For height there will be many at the average or close to it and less very short or very tall people.  Same with the blood pressure example there will be many at the average and fewer with low blood pressure or high blood pressure."
   ]
  },
  {
   "cell_type": "code",
   "execution_count": 33,
   "metadata": {
    "scrolled": true
   },
   "outputs": [
    {
     "name": "stderr",
     "output_type": "stream",
     "text": [
      "C:\\ProgramData\\Anaconda3\\lib\\site-packages\\scipy\\stats\\stats.py:1713: FutureWarning: Using a non-tuple sequence for multidimensional indexing is deprecated; use `arr[tuple(seq)]` instead of `arr[seq]`. In the future this will be interpreted as an array index, `arr[np.array(seq)]`, which will result either in an error or a different result.\n",
      "  return np.add.reduce(sorted[indexer] * weights, axis=axis) / sumval\n"
     ]
    },
    {
     "data": {
      "image/png": "[encoded data removed]",
      "text/plain": [
       "<Figure size 432x288 with 1 Axes>"
      ]
     },
     "metadata": {},
     "output_type": "display_data"
    }
   ],
   "source": [
    "x = np.random.normal(size=1000) # Unless you put in different values the mean will be 0 and the std dev will be 1\n",
    "sns.set()\n",
    "sns.distplot(x)\n",
    "plt.show()\n"
   ]
  },
  {
   "cell_type": "code",
   "execution_count": 34,
   "metadata": {
    "scrolled": true
   },
   "outputs": [
    {
     "name": "stderr",
     "output_type": "stream",
     "text": [
      "C:\\ProgramData\\Anaconda3\\lib\\site-packages\\scipy\\stats\\stats.py:1713: FutureWarning: Using a non-tuple sequence for multidimensional indexing is deprecated; use `arr[tuple(seq)]` instead of `arr[seq]`. In the future this will be interpreted as an array index, `arr[np.array(seq)]`, which will result either in an error or a different result.\n",
      "  return np.add.reduce(sorted[indexer] * weights, axis=axis) / sumval\n"
     ]
    },
    {
     "data": {
      "image/png": "[encoded data removed]",
      "text/plain": [
       "<Figure size 432x288 with 1 Axes>"
      ]
     },
     "metadata": {},
     "output_type": "display_data"
    }
   ],
   "source": [
    "k = np.random.normal(100, 1, 1000) # showing the mean at 100 and a std dev of 1\n",
    "l = np.random.normal(100, .5, 1000) # showing the mean at 100 and a std dev of .5\n",
    "m = np.random.normal(100, .25, 1000) # showing the mean at 100 and a std dev of .25\n",
    "sns.set()\n",
    "sns.distplot(k)\n",
    "sns.distplot(l)\n",
    "sns.distplot(m)\n",
    "\n",
    "plt.title('Normal Distribution')\n",
    "\n",
    "plt.show()"
   ]
  },
  {
   "cell_type": "markdown",
   "metadata": {},
   "source": [
    "\n",
    "\n"
   ]
  },
  {
   "cell_type": "code",
   "execution_count": 35,
   "metadata": {
    "scrolled": true
   },
   "outputs": [
    {
     "name": "stdout",
     "output_type": "stream",
     "text": [
      "[70.5 68.5 65.5 64.5 64.  67.5 67.5 67.5 66.5 66.5 66.5 64.5 70.5 69.5\n",
      " 68.5 68.5 68.5 68.5 68.5 68.5 68.5 67.5 67.5 67.5 67.5 67.5 66.5 66.5\n",
      " 66.5 65.5 65.5 65.5 65.5 65.5 65.5 65.5 65.5 65.5 64.5 64.5 64.5 64.5\n",
      " 64.  64.  69.5 69.5 69.5 69.5 69.5 69.5 69.5 69.5 69.5 69.5 69.5 69.5\n",
      " 69.5 69.5 69.5 69.5 68.5 68.5 68.5 68.5 68.5 68.5 68.5 68.5 68.5 68.5\n",
      " 68.5 67.5 67.5 67.5 67.5 67.5 67.5 67.5 67.5 67.5 67.5 67.5 67.5 67.5\n",
      " 67.5 66.5 66.5 66.5 66.5 66.5 65.5 65.5 65.5 65.5 65.5 64.5 64.5 64.5\n",
      " 64.5 64.  64.  64.  64.  71.5 70.5 69.5 69.5 69.5 69.5 68.5 68.5 68.5\n",
      " 68.5 68.5 68.5 68.5 68.5 68.5 68.5 68.5 68.5 68.5 68.5 68.5 68.5 67.5\n",
      " 67.5 67.5 67.5 67.5 67.5 67.5 67.5 67.5 67.5 67.5 67.5 67.5 67.5 67.5\n",
      " 66.5 66.5 65.5 65.5 65.5 65.5 65.5 65.5 65.5 64.5 64.  71.5 71.5 71.5\n",
      " 70.5 69.5 69.5 69.5 69.5 69.5 69.5 69.5 69.5 69.5 69.5 69.5 69.5 69.5\n",
      " 69.5 69.5 69.5 69.5 68.5 68.5 68.5 68.5 68.5 68.5 68.5 68.5 68.5 68.5\n",
      " 68.5 68.5 68.5 68.5 68.5 68.5 68.5 68.5 68.5 68.5 68.5 68.5 68.5 68.5\n",
      " 68.5 67.5 67.5 67.5 67.5 67.5 67.5 67.5 67.5 67.5 67.5 67.5 67.5 67.5\n",
      " 67.5 67.5 67.5 67.5 67.5 67.5 67.5 67.5 67.5 67.5 67.5 67.5 67.5 67.5\n",
      " 67.5 67.5 67.5 67.5 67.5 67.5 67.5 67.5 67.5 66.5 66.5 66.5 66.5 66.5\n",
      " 66.5 66.5 66.5 66.5 66.5 66.5 66.5 66.5 66.5 66.5 66.5 66.5 65.5 65.5\n",
      " 65.5 65.5 65.5 65.5 65.5 65.5 65.5 65.5 65.5 64.5 64.5 64.5 64.5 64.5\n",
      " 64.  64.  71.5 71.5 71.5 71.5 70.5 70.5 70.5 69.5 69.5 69.5 69.5 69.5\n",
      " 69.5 69.5 69.5 69.5 69.5 69.5 69.5 69.5 69.5 69.5 69.5 69.5 69.5 69.5\n",
      " 69.5 69.5 69.5 69.5 69.5 69.5 69.5 69.5 68.5 68.5 68.5 68.5 68.5 68.5\n",
      " 68.5 68.5 68.5 68.5 68.5 68.5 68.5 68.5 68.5 68.5 68.5 68.5 68.5 68.5\n",
      " 68.5 68.5 68.5 68.5 68.5 68.5 68.5 68.5 68.5 68.5 68.5 67.5 67.5 67.5\n",
      " 67.5 67.5 67.5 67.5 67.5 67.5 67.5 67.5 67.5 67.5 67.5 67.5 67.5 67.5\n",
      " 67.5 67.5 67.5 67.5 67.5 67.5 67.5 67.5 67.5 67.5 67.5 67.5 67.5 67.5\n",
      " 67.5 67.5 67.5 67.5 67.5 67.5 67.5 66.5 66.5 66.5 66.5 66.5 66.5 66.5\n",
      " 66.5 66.5 66.5 66.5 66.5 66.5 66.5 66.5 66.5 66.5 65.5 65.5 65.5 65.5\n",
      " 65.5 65.5 65.5 65.5 65.5 65.5 65.5 64.5 64.5 64.5 64.5 64.5 64.  64.\n",
      " 72.5 71.5 71.5 71.5 70.5 70.5 70.5 70.5 70.5 70.5 70.5 70.5 70.5 70.5\n",
      " 70.5 70.5 69.5 69.5 69.5 69.5 69.5 69.5 69.5 69.5 69.5 69.5 69.5 69.5\n",
      " 69.5 69.5 69.5 69.5 69.5 69.5 69.5 69.5 68.5 68.5 68.5 68.5 68.5 68.5\n",
      " 68.5 68.5 68.5 68.5 68.5 68.5 68.5 68.5 68.5 68.5 68.5 68.5 68.5 68.5\n",
      " 68.5 68.5 68.5 68.5 68.5 68.5 68.5 68.5 68.5 68.5 68.5 68.5 68.5 68.5\n",
      " 67.5 67.5 67.5 67.5 67.5 67.5 67.5 67.5 67.5 67.5 67.5 67.5 67.5 67.5\n",
      " 67.5 67.5 67.5 67.5 67.5 67.5 67.5 67.5 67.5 67.5 67.5 67.5 67.5 67.5\n",
      " 66.5 66.5 66.5 66.5 66.5 66.5 66.5 66.5 66.5 66.5 66.5 66.5 66.5 66.5\n",
      " 65.5 65.5 65.5 65.5 65.5 65.5 65.5 64.  72.5 72.5 71.5 71.5 71.5 71.5\n",
      " 71.5 70.5 70.5 70.5 70.5 70.5 70.5 70.5 70.5 70.5 70.5 70.5 70.5 70.5\n",
      " 70.5 70.5 70.5 70.5 70.5 69.5 69.5 69.5 69.5 69.5 69.5 69.5 69.5 69.5\n",
      " 69.5 69.5 69.5 69.5 69.5 69.5 69.5 69.5 69.5 69.5 69.5 69.5 69.5 69.5\n",
      " 69.5 69.5 69.5 69.5 69.5 69.5 69.5 69.5 69.5 69.5 68.5 68.5 68.5 68.5\n",
      " 68.5 68.5 68.5 68.5 68.5 68.5 68.5 68.5 68.5 68.5 68.5 68.5 68.5 68.5\n",
      " 68.5 68.5 68.5 68.5 68.5 68.5 68.5 68.5 68.5 68.5 68.5 68.5 68.5 68.5\n",
      " 68.5 68.5 68.5 68.5 68.5 68.5 68.5 68.5 68.5 68.5 68.5 68.5 68.5 68.5\n",
      " 68.5 68.5 67.5 67.5 67.5 67.5 67.5 67.5 67.5 67.5 67.5 67.5 67.5 67.5\n",
      " 67.5 67.5 67.5 67.5 67.5 67.5 67.5 67.5 67.5 67.5 67.5 67.5 67.5 67.5\n",
      " 67.5 67.5 67.5 67.5 67.5 67.5 67.5 67.5 67.5 67.5 67.5 67.5 66.5 66.5\n",
      " 66.5 66.5 66.5 66.5 66.5 66.5 66.5 66.5 66.5 66.5 66.5 65.5 65.5 65.5\n",
      " 65.5 65.5 65.5 65.5 64.5 64.5 64.  72.5 71.5 71.5 71.5 71.5 71.5 71.5\n",
      " 71.5 71.5 71.5 71.5 70.5 70.5 70.5 70.5 70.5 70.5 70.5 70.5 70.5 70.5\n",
      " 70.5 70.5 70.5 70.5 69.5 69.5 69.5 69.5 69.5 69.5 69.5 69.5 69.5 69.5\n",
      " 69.5 69.5 69.5 69.5 69.5 69.5 69.5 69.5 69.5 69.5 69.5 69.5 69.5 69.5\n",
      " 69.5 68.5 68.5 68.5 68.5 68.5 68.5 68.5 68.5 68.5 68.5 68.5 68.5 68.5\n",
      " 68.5 68.5 68.5 68.5 68.5 68.5 68.5 68.5 67.5 67.5 67.5 67.5 67.5 67.5\n",
      " 67.5 67.5 67.5 67.5 67.5 67.5 67.5 67.5 67.5 67.5 67.5 67.5 67.5 66.5\n",
      " 66.5 66.5 66.5 65.5 65.5 65.5 65.5 65.5 72.5 72.5 71.5 71.5 71.5 71.5\n",
      " 70.5 70.5 70.5 70.5 70.5 70.5 70.5 69.5 69.5 69.5 69.5 69.5 69.5 69.5\n",
      " 69.5 69.5 69.5 69.5 69.5 69.5 69.5 69.5 69.5 69.5 69.5 69.5 69.5 68.5\n",
      " 68.5 68.5 68.5 68.5 68.5 68.5 68.5 68.5 68.5 68.5 68.5 68.5 68.5 68.5\n",
      " 68.5 68.5 68.5 67.5 67.5 67.5 67.5 67.5 67.5 67.5 67.5 67.5 67.5 67.5\n",
      " 65.5 65.5 73.  72.5 72.5 72.5 72.5 72.5 72.5 72.5 71.5 71.5 71.5 71.5\n",
      " 71.5 71.5 71.5 71.5 71.5 70.5 70.5 70.5 70.5 69.5 69.5 69.5 69.5 69.5\n",
      " 69.5 69.5 69.5 69.5 69.5 69.5 68.5 68.5 68.5 68.5 67.5 67.5 67.5 67.5\n",
      " 65.5 73.  73.  73.  72.5 72.5 71.5 71.5 70.5 70.5 70.5 69.5 69.5 69.5\n",
      " 69.5 68.5 68.5 68.5 72.5 72.5 72.5 72.5 71.5 71.5 70.5 70.5 70.5 69.5\n",
      " 69.5 69.5 69.5 69.5]\n"
     ]
    }
   ],
   "source": [
    "data = np.genfromtxt(\"GaltonHeightList.csv\", skip_header=0) # csv heights file from git hub\n",
    "\n",
    "print(data)"
   ]
  },
  {
   "cell_type": "code",
   "execution_count": 36,
   "metadata": {
    "scrolled": true
   },
   "outputs": [
    {
     "data": {
      "text/plain": [
       "-0.6252289631728787"
      ]
     },
     "execution_count": 36,
     "metadata": {},
     "output_type": "execute_result"
    }
   ],
   "source": [
    "np.random.normal(loc=0.0, scale=1.0, size=None)"
   ]
  },
  {
   "cell_type": "code",
   "execution_count": 37,
   "metadata": {
    "scrolled": true
   },
   "outputs": [
    {
     "data": {
      "image/png": "[encoded data removed]",
      "text/plain": [
       "<Figure size 432x288 with 1 Axes>"
      ]
     },
     "metadata": {},
     "output_type": "display_data"
    }
   ],
   "source": [
    "fit = stats.norm.pdf(data, np.mean(data), np.std(data))  \n",
    "plt.plot(data, fit, 'o')\n",
    "plt.show()"
   ]
  },
  {
   "cell_type": "code",
   "execution_count": 38,
   "metadata": {
    "scrolled": true
   },
   "outputs": [
    {
     "name": "stderr",
     "output_type": "stream",
     "text": [
      "C:\\ProgramData\\Anaconda3\\lib\\site-packages\\scipy\\stats\\stats.py:1713: FutureWarning: Using a non-tuple sequence for multidimensional indexing is deprecated; use `arr[tuple(seq)]` instead of `arr[seq]`. In the future this will be interpreted as an array index, `arr[np.array(seq)]`, which will result either in an error or a different result.\n",
      "  return np.add.reduce(sorted[indexer] * weights, axis=axis) / sumval\n"
     ]
    },
    {
     "data": {
      "text/plain": [
       "<matplotlib.axes._subplots.AxesSubplot at 0x1d0382a3d30>"
      ]
     },
     "execution_count": 38,
     "metadata": {},
     "output_type": "execute_result"
    },
    {
     "data": {
      "image/png": "[encoded data removed]",
      "text/plain": [
       "<Figure size 432x288 with 1 Axes>"
      ]
     },
     "metadata": {},
     "output_type": "display_data"
    }
   ],
   "source": [
    "import seaborn as sns\n",
    "df = pd.read_csv(\"GaltonHeightList.csv\", header=None)\n",
    "sns.set()\n",
    "sns.distplot(df)"
   ]
  },
  {
   "cell_type": "markdown",
   "metadata": {},
   "source": [
    "### Log Normal Distribution\n",
    "\n"
   ]
  },
  {
   "cell_type": "markdown",
   "metadata": {},
   "source": [
    "log-normal (or lognormal) distribution is a continuous probability distribution of a random variable whose logarithm is normally distributed."
   ]
  },
  {
   "cell_type": "code",
   "execution_count": 39,
   "metadata": {},
   "outputs": [
    {
     "data": {
      "image/png": "[encoded data removed]",
      "text/plain": [
       "<Figure size 432x288 with 1 Axes>"
      ]
     },
     "metadata": {},
     "output_type": "display_data"
    }
   ],
   "source": [
    "mu, sigma = 3., 1. # mean and standard deviation\n",
    "s = np.random.lognormal(mu, sigma, 1000)\n",
    "    \n",
    "# Display the histogram of the samples, along with the probability density function:\n",
    "\n",
    "count, bins, ignored = plt.hist(s, 100, density=True, align='mid')\n",
    "    \n",
    "x = np.linspace(min(bins), max(bins), 10000)\n",
    "pdf = (np.exp(-(np.log(x) - mu)**2 / (2 * sigma**2))/ (x * sigma * np.sqrt(2 * np.pi)))\n",
    "    \n",
    "plt.plot(x, pdf, linewidth=2, color='r')\n",
    "plt.axis('tight')\n",
    "plt.show()"
   ]
  },
  {
   "cell_type": "markdown",
   "metadata": {},
   "source": [
    "Demonstrate that taking the products of random samples from a uniform distribution can be fit well by a log-normal probability density function."
   ]
  },
  {
   "cell_type": "code",
   "execution_count": 40,
   "metadata": {},
   "outputs": [
    {
     "data": {
      "image/png": "[encoded data removed]",
      "text/plain": [
       "<Figure size 432x288 with 1 Axes>"
      ]
     },
     "metadata": {},
     "output_type": "display_data"
    }
   ],
   "source": [
    "# Generate a thousand samples: each is the product of 100 random\n",
    "# values, drawn from a normal distribution.\n",
    "b = []\n",
    "for i in range(1000):\n",
    "    a = 10. + np.random.random(100)\n",
    "    b.append(np.product(a))\n",
    "    \n",
    "b = np.array(b) / np.min(b) # scale values to be positive\n",
    "count, bins, ignored = plt.hist(b, 100, density=True, align='mid')\n",
    "sigma = np.std(np.log(b))\n",
    "mu = np.mean(np.log(b))\n",
    "    \n",
    "x = np.linspace(min(bins), max(bins), 10000)\n",
    "pdf = (np.exp(-(np.log(x) - mu)**2 / (2 * sigma**2))/ (x * sigma * np.sqrt(2 * np.pi)))\n",
    "    \n",
    "plt.plot(x, pdf, color='r', linewidth=2)\n",
    "plt.show()"
   ]
  },
  {
   "cell_type": "markdown",
   "metadata": {},
   "source": [
    "### Binomial Distribution\n",
    "\n"
   ]
  },
  {
   "cell_type": "markdown",
   "metadata": {
    "scrolled": false
   },
   "source": [
    "The Binomial Distribution is a probability distribution of a yes no question.  \n",
    "\n",
    "It could be the flip of a coin, heads or tails, it could be a sample population of people are they left handed or right handed.\n",
    "It could be a real world example of a drilling company saying will this drilled well have oil, yes or no.\n",
    "\n"
   ]
  },
  {
   "cell_type": "code",
   "execution_count": 41,
   "metadata": {
    "scrolled": true
   },
   "outputs": [
    {
     "name": "stderr",
     "output_type": "stream",
     "text": [
      "C:\\ProgramData\\Anaconda3\\lib\\site-packages\\scipy\\stats\\stats.py:1713: FutureWarning: Using a non-tuple sequence for multidimensional indexing is deprecated; use `arr[tuple(seq)]` instead of `arr[seq]`. In the future this will be interpreted as an array index, `arr[np.array(seq)]`, which will result either in an error or a different result.\n",
      "  return np.add.reduce(sorted[indexer] * weights, axis=axis) / sumval\n"
     ]
    },
    {
     "data": {
      "text/plain": [
       "<matplotlib.axes._subplots.AxesSubplot at 0x1d0384ff3c8>"
      ]
     },
     "execution_count": 41,
     "metadata": {},
     "output_type": "execute_result"
    },
    {
     "data": {
      "image/png": "[encoded data removed]",
      "text/plain": [
       "<Figure size 432x288 with 1 Axes>"
      ]
     },
     "metadata": {},
     "output_type": "display_data"
    }
   ],
   "source": [
    "n, p = 10, .5  # number of trials, probability of each trial\n",
    "s = np.random.binomial(10, .5, 1000)\n",
    "# result of flipping a coin 10 times, tested 1000 times.\n",
    "sns.set(style=\"darkgrid\")\n",
    "sns.distplot(s, hist=True, rug=True)"
   ]
  },
  {
   "cell_type": "code",
   "execution_count": null,
   "metadata": {
    "scrolled": true
   },
   "outputs": [],
   "source": []
  },
  {
   "cell_type": "code",
   "execution_count": 42,
   "metadata": {
    "scrolled": true
   },
   "outputs": [
    {
     "data": {
      "text/plain": [
       "(array([  2.,   6.,  51., 107., 186., 256., 213., 125.,  47.,   7.]),\n",
       " array([ 0.,  1.,  2.,  3.,  4.,  5.,  6.,  7.,  8.,  9., 10.]),\n",
       " <a list of 10 Patch objects>)"
      ]
     },
     "execution_count": 42,
     "metadata": {},
     "output_type": "execute_result"
    },
    {
     "data": {
      "image/png": "[encoded data removed]",
      "text/plain": [
       "<Figure size 432x288 with 1 Axes>"
      ]
     },
     "metadata": {},
     "output_type": "display_data"
    }
   ],
   "source": [
    "n, p = 10, .5  # number of trials, probability of each trial\n",
    "s = np.random.binomial(n, p, 1000)\n",
    "# result of flipping a coin 10 times, tested 1000 times.\n",
    "s\n",
    "sns.set()\n",
    "plt.hist(s)\n"
   ]
  },
  {
   "cell_type": "code",
   "execution_count": 43,
   "metadata": {
    "scrolled": true
   },
   "outputs": [
    {
     "name": "stderr",
     "output_type": "stream",
     "text": [
      "C:\\ProgramData\\Anaconda3\\lib\\site-packages\\scipy\\stats\\stats.py:1713: FutureWarning: Using a non-tuple sequence for multidimensional indexing is deprecated; use `arr[tuple(seq)]` instead of `arr[seq]`. In the future this will be interpreted as an array index, `arr[np.array(seq)]`, which will result either in an error or a different result.\n",
      "  return np.add.reduce(sorted[indexer] * weights, axis=axis) / sumval\n"
     ]
    },
    {
     "data": {
      "text/plain": [
       "<matplotlib.axes._subplots.AxesSubplot at 0x1d0382e30b8>"
      ]
     },
     "execution_count": 43,
     "metadata": {},
     "output_type": "execute_result"
    },
    {
     "data": {
      "image/png": "[encoded data removed]",
      "text/plain": [
       "<Figure size 432x288 with 1 Axes>"
      ]
     },
     "metadata": {},
     "output_type": "display_data"
    }
   ],
   "source": [
    "sns.set()\n",
    "sns.distplot(s)"
   ]
  },
  {
   "cell_type": "code",
   "execution_count": 44,
   "metadata": {
    "scrolled": true
   },
   "outputs": [
    {
     "data": {
      "text/plain": [
       "[<matplotlib.lines.Line2D at 0x1d036e98d30>]"
      ]
     },
     "execution_count": 44,
     "metadata": {},
     "output_type": "execute_result"
    },
    {
     "data": {
      "image/png": "[encoded data removed]",
      "text/plain": [
       "<Figure size 432x288 with 1 Axes>"
      ]
     },
     "metadata": {},
     "output_type": "display_data"
    }
   ],
   "source": [
    "import scipy, scipy.stats\n",
    "x = scipy.linspace(0,10,11)\n",
    "pmf = scipy.stats.binom.pmf(x,10,0.5)\n",
    "import pylab\n",
    "pylab.plot(x,pmf)"
   ]
  },
  {
   "cell_type": "markdown",
   "metadata": {},
   "source": [
    "### Pareto Distribution\n"
   ]
  },
  {
   "cell_type": "markdown",
   "metadata": {},
   "source": [
    "![Vilfredo Pareto](VilfredoPareto.jpg)"
   ]
  },
  {
   "cell_type": "markdown",
   "metadata": {},
   "source": [
    "This distribution is named after Italian economist Vilfredo Pareto. The Pareto principle was named after him, and it was built on observations of his such as that 80% of the land in Italy was owned by about 20% of the population.\n",
    "\n",
    "He was also the first to discover that income follows a Pareto distribution, which is a power law probability distribution. \n",
    "\n",
    "I find the Pareto Distribution very interesting.\n",
    "From when I started working I had an incling that there was a huge gulf between the amount of work some people were doing compared to others.  I was right but what shocked me was how much work was being done by so few when the Pareto distribution is applied.\n",
    "\n",
    "You can see this principle in its starkest with the worlds wealth.  The fact that over 80% of the worlds wealth is held by 1% of the world population.\n",
    "\n",
    "As a rule of thumb if you take a population size and see who is doing the work or creating the most use the 80 - 20 rule.\n",
    "\n",
    "It is a slowly decaying graph, most of the population is in the long tail, ie skewed."
   ]
  },
  {
   "cell_type": "code",
   "execution_count": 45,
   "metadata": {
    "scrolled": true
   },
   "outputs": [
    {
     "data": {
      "image/png": "[encoded data removed]",
      "text/plain": [
       "<Figure size 432x288 with 1 Axes>"
      ]
     },
     "metadata": {},
     "output_type": "display_data"
    }
   ],
   "source": [
    "a, m = 3., 2.  # shape and mode\n",
    "s = (np.random.pareto(a, 1000) + 1) * m\n",
    "\n",
    "import matplotlib.pyplot as plt\n",
    "sns.set()\n",
    "count, bins, _ = plt.hist(s, 100, density=True)\n",
    "fit = a*m**a / bins**(a+1)\n",
    "plt.plot(bins, max(count)*fit/max(fit), linewidth=2, color='r')\n",
    "plt.show()"
   ]
  },
  {
   "cell_type": "markdown",
   "metadata": {},
   "source": [
    "You can see from the above graph how much blue you can see towards the right.  Between 5 and 10 you can see a few bins but after that you can only see the line"
   ]
  },
  {
   "cell_type": "markdown",
   "metadata": {},
   "source": [
    "### Uniform Distribution\n"
   ]
  },
  {
   "cell_type": "markdown",
   "metadata": {},
   "source": [
    "The unifrom distribution is one where all numbers within the population have the same probability of being selected.  This distributuion is not centred around the mean.\n",
    "Obviously because it is random it will not be comletely unifrom but there is a unifromity as can be seen below by the box shape of the plot."
   ]
  },
  {
   "cell_type": "code",
   "execution_count": 46,
   "metadata": {
    "scrolled": true
   },
   "outputs": [
    {
     "data": {
      "image/png": "[encoded data removed]",
      "text/plain": [
       "<Figure size 432x288 with 1 Axes>"
      ]
     },
     "metadata": {},
     "output_type": "display_data"
    }
   ],
   "source": [
    "s = np.random.uniform(-1,0,1000)\n",
    "    \n",
    "np.all(s >= -1)\n",
    "np.all(s < 0)\n",
    "import matplotlib.pyplot as plt\n",
    "count, bins, ignored = plt.hist(s, 15, density=True)\n",
    "plt.plot(bins, np.ones_like(bins), linewidth=2, color='r')\n",
    "plt.show()"
   ]
  },
  {
   "cell_type": "code",
   "execution_count": 47,
   "metadata": {
    "scrolled": true
   },
   "outputs": [
    {
     "data": {
      "image/png": "[encoded data removed]",
      "text/plain": [
       "<Figure size 432x288 with 1 Axes>"
      ]
     },
     "metadata": {},
     "output_type": "display_data"
    }
   ],
   "source": [
    "s = np.random.uniform(0,1,1000) # You can change the range, here the random numbers will be from 0 to 1 excluding 1\n",
    "np.all(s >= -0)\n",
    "np.all(s < 1)\n",
    "import matplotlib.pyplot as plt\n",
    "sns.set\n",
    "count, bins, ignored = plt.hist(s, 15, density=True)\n",
    "plt.plot(bins, np.ones_like(bins), linewidth=2, color='r')\n",
    "plt.show()"
   ]
  },
  {
   "cell_type": "code",
   "execution_count": 48,
   "metadata": {
    "scrolled": true
   },
   "outputs": [
    {
     "data": {
      "text/plain": [
       "0.5064684235817062"
      ]
     },
     "execution_count": 48,
     "metadata": {},
     "output_type": "execute_result"
    }
   ],
   "source": [
    "np.mean(s)"
   ]
  },
  {
   "cell_type": "code",
   "execution_count": 49,
   "metadata": {
    "scrolled": true
   },
   "outputs": [
    {
     "data": {
      "text/plain": [
       "<function matplotlib.pyplot.show(*args, **kw)>"
      ]
     },
     "execution_count": 49,
     "metadata": {},
     "output_type": "execute_result"
    },
    {
     "data": {
      "image/png": "[encoded data removed]",
      "text/plain": [
       "<Figure size 432x288 with 1 Axes>"
      ]
     },
     "metadata": {},
     "output_type": "display_data"
    }
   ],
   "source": [
    "import numpy as np\n",
    "mu, sigma = 0, 0.1 # mean and standard deviation\n",
    "s = np.random.normal(mu, sigma, 1000) \n",
    "%matplotlib inline\n",
    "import matplotlib.pyplot as plt\n",
    "sns.set()\n",
    "count, bins, ignored = plt.hist(s, 20, density=True)\n",
    "# Display the mean and the standard deviation of the data\n",
    "plt.plot(bins, 1/(sigma * np.sqrt(2 * np.pi)) *\n",
    "np.exp( - (bins - mu)**2 / (2 * sigma**2) ),\n",
    "linewidth=2, color='r')\n",
    "plt.show"
   ]
  },
  {
   "cell_type": "markdown",
   "metadata": {},
   "source": [
    "## Random Number Generator"
   ]
  },
  {
   "cell_type": "markdown",
   "metadata": {},
   "source": [
    "### Random State"
   ]
  },
  {
   "cell_type": "markdown",
   "metadata": {},
   "source": [
    "When I used the following command help funcion help(np.random.RandomState) I found that the entire Numpy.random package is run through this generator.  The help brings up all topics of the random package and tell us that the package is using the marsenne twister pseudo random number generator.  This gives a long period but it is a sequence nontheless and cannot be used in crypotography unless it is modified.  If you could look at the sequence long enough you could tell what the next number would be."
   ]
  },
  {
   "cell_type": "markdown",
   "metadata": {},
   "source": [
    "### Seed"
   ]
  },
  {
   "cell_type": "markdown",
   "metadata": {},
   "source": [
    "We see above how numpy.random generates a random number.  Now suppose we want to run a test or scientific experiment or engineering .  We would not want to have different result values each time.  There is a way to generate the same random results each time.  We do this by feeding the seed in the generator.  We see above that the seed is a part of the Marsenne Twister sequence.  If we feed in where we start in that sequence it will start at that point each time we run it, thus returning the same values each time."
   ]
  },
  {
   "cell_type": "code",
   "execution_count": 50,
   "metadata": {
    "scrolled": true
   },
   "outputs": [
    {
     "data": {
      "text/plain": [
       "array([19, 20, 16, 10, 13,  6,  5, 13, 17, 12])"
      ]
     },
     "execution_count": 50,
     "metadata": {},
     "output_type": "execute_result"
    }
   ],
   "source": [
    "np.random.randint(1,21, size=10) # we saw above how this function works and it gives 10 random numbers picked from 1-21"
   ]
  },
  {
   "cell_type": "code",
   "execution_count": 51,
   "metadata": {
    "scrolled": true
   },
   "outputs": [
    {
     "data": {
      "text/plain": [
       "array([ 6, 12, 13,  9, 10, 12,  6, 16,  1, 17])"
      ]
     },
     "execution_count": 51,
     "metadata": {},
     "output_type": "execute_result"
    }
   ],
   "source": [
    "np.random.seed(1) # now we will see the same function controlled ie it will give the same 10 numbers out each time\n",
    "np.random.randint(1,21, size=10)"
   ]
  },
  {
   "cell_type": "code",
   "execution_count": 52,
   "metadata": {
    "scrolled": true
   },
   "outputs": [
    {
     "data": {
      "text/plain": [
       "array([ 6, 12, 13,  9, 10, 12,  6, 16,  1, 17])"
      ]
     },
     "execution_count": 52,
     "metadata": {},
     "output_type": "execute_result"
    }
   ],
   "source": [
    "np.random.seed(1) # when we set the seed to 1 it will give us out the same set of numbers again and again\n",
    "np.random.randint(1,21, size=10)"
   ]
  },
  {
   "cell_type": "code",
   "execution_count": 53,
   "metadata": {
    "scrolled": true
   },
   "outputs": [
    {
     "data": {
      "text/plain": [
       "array([48, 84, 39, 54, 77])"
      ]
     },
     "execution_count": 53,
     "metadata": {},
     "output_type": "execute_result"
    }
   ],
   "source": [
    "np.random.seed(1234) # you can change the seed\n",
    "np.random.randint(1,100, size=5)"
   ]
  },
  {
   "cell_type": "code",
   "execution_count": 54,
   "metadata": {
    "scrolled": true
   },
   "outputs": [
    {
     "data": {
      "text/plain": [
       "array([48, 84, 39, 54, 77])"
      ]
     },
     "execution_count": 54,
     "metadata": {},
     "output_type": "execute_result"
    }
   ],
   "source": [
    "np.random.seed(1234) # it returns the same 5 numbers\n",
    "np.random.randint(1,100, size=5)"
   ]
  },
  {
   "cell_type": "markdown",
   "metadata": {},
   "source": [
    "### References\n",
    "\n",
    "https://docs.scipy.org/doc/numpy/reference/routines.random.html\n",
    "\n",
    "https://en.wikipedia.org/wiki/Pareto_distribution\n",
    "\n",
    "https://en.wikipedia.org/wiki/Mersenne_Twister\n",
    "\n",
    "http://www.homepages.ed.ac.uk/slig/papers/tian_AHS09.pdf\n",
    "\n",
    "https://en.wikipedia.org/wiki/Log-normal_distribution\n",
    "\n"
   ]
  }
 ],
 "metadata": {
  "kernelspec": {
   "display_name": "Python 3",
   "language": "python",
   "name": "python3"
  },
  "language_info": {
   "codemirror_mode": {
    "name": "ipython",
    "version": 3
   },
   "file_extension": ".py",
   "mimetype": "text/x-python",
   "name": "python",
   "nbconvert_exporter": "python",
   "pygments_lexer": "ipython3",
   "version": "3.7.0"
  }
 },
 "nbformat": 4,
 "nbformat_minor": 2
}
